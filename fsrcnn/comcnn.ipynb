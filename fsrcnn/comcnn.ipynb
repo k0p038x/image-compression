{
 "cells": [
  {
   "cell_type": "code",
   "execution_count": 1,
   "metadata": {},
   "outputs": [
    {
     "name": "stderr",
     "output_type": "stream",
     "text": [
      "/home/chandu/anaconda3/lib/python3.6/site-packages/h5py/__init__.py:36: FutureWarning: Conversion of the second argument of issubdtype from `float` to `np.floating` is deprecated. In future, it will be treated as `np.float64 == np.dtype(float).type`.\n",
      "  from ._conv import register_converters as _register_converters\n",
      "Using TensorFlow backend.\n"
     ]
    },
    {
     "name": "stdout",
     "output_type": "stream",
     "text": [
      "importing Jupyter notebook from reccnn.ipynb\n"
     ]
    }
   ],
   "source": [
    "import numpy as np\n",
    "import cv2\n",
    "from keras.layers import Conv2D, Input, Layer\n",
    "from keras.models import Model\n",
    "import tensorflow as tf\n",
    "import import_ipynb\n",
    "import keras\n",
    "from reccnn import RecCNN"
   ]
  },
  {
   "cell_type": "code",
   "execution_count": 2,
   "metadata": {},
   "outputs": [],
   "source": [
    "class ComCNN:\n",
    "    \n",
    "    \n",
    "    def __init__(self, c):\n",
    "        self.channels = c\n",
    "    \n",
    "    \n",
    "    def compact(self, first):\n",
    "        # Layers\n",
    "        conv1 = Conv2D(filters=64, kernel_size=(3,3), activation='relu', padding='same', kernel_initializer='random_uniform', bias_initializer='zeros')(first)\n",
    "        conv2 = Conv2D(filters=32, strides = 2, kernel_size=(3,3), activation='relu', padding='same', kernel_initializer='random_uniform')(conv1)\n",
    "        last = Conv2D(self.channels, strides = 2, kernel_size=(3,3), activation='sigmoid', padding = 'same', kernel_initializer='random_uniform')(conv2)\n",
    "        return last\n",
    "    \n",
    "        "
   ]
  },
  {
   "cell_type": "code",
   "execution_count": 3,
   "metadata": {},
   "outputs": [
    {
     "name": "stdout",
     "output_type": "stream",
     "text": [
      "__________________________________________________________________________________________________\n",
      "Layer (type)                    Output Shape         Param #     Connected to                     \n",
      "==================================================================================================\n",
      "input_3 (InputLayer)            (None, 25, 50, 3)    0                                            \n",
      "__________________________________________________________________________________________________\n",
      "interpolate_tensor_2 (Interpola (None, 375, 500, 3)  0           input_3[0][0]                    \n",
      "__________________________________________________________________________________________________\n",
      "conv2d_4 (Conv2D)               (None, 375, 500, 64) 4864        interpolate_tensor_2[0][0]       \n",
      "__________________________________________________________________________________________________\n",
      "conv2d_5 (Conv2D)               (None, 375, 500, 32) 18464       conv2d_4[0][0]                   \n",
      "__________________________________________________________________________________________________\n",
      "conv2d_6 (Conv2D)               (None, 375, 500, 3)  867         conv2d_5[0][0]                   \n",
      "__________________________________________________________________________________________________\n",
      "add_2 (Add)                     (None, 375, 500, 3)  0           interpolate_tensor_2[0][0]       \n",
      "                                                                 conv2d_6[0][0]                   \n",
      "==================================================================================================\n",
      "Total params: 24,195\n",
      "Trainable params: 24,195\n",
      "Non-trainable params: 0\n",
      "__________________________________________________________________________________________________\n",
      "_________________________________________________________________\n",
      "Layer (type)                 Output Shape              Param #   \n",
      "=================================================================\n",
      "input_2 (InputLayer)         (None, 375, 500, 3)       0         \n",
      "_________________________________________________________________\n",
      "conv2d_7 (Conv2D)            (None, 125, 250, 64)      4864      \n",
      "_________________________________________________________________\n",
      "conv2d_8 (Conv2D)            (None, 25, 50, 64)        200768    \n",
      "_________________________________________________________________\n",
      "conv2d_9 (Conv2D)            (None, 25, 50, 3)         1731      \n",
      "=================================================================\n",
      "Total params: 207,363\n",
      "Trainable params: 207,363\n",
      "Non-trainable params: 0\n",
      "_________________________________________________________________\n"
     ]
    }
   ],
   "source": [
    "# For Testing\n",
    "# from keras.layers import Input\n",
    "\n",
    "# inp1 = Input(shape=(500,500,3))\n",
    "# inp2 = Input(shape=(25,50,3))\n",
    "\n",
    "# rec_cnn = RecCNN(3)\n",
    "# model_reccnn = Model(inp2, rec_cnn.sisr(inp2))\n",
    "# model_reccnn.compile(optimizer='adam', loss='mean_squared_error')\n",
    "# model_reccnn.summary()\n",
    "\n",
    "# com_cnn = ComCNN(3)\n",
    "# model_comcnn = Model(inp1, com_cnn.compact(inp1))\n",
    "# model_comcnn.compile(optimizer='adam', loss='mean_squared_error')\n",
    "# model_comcnn.summary()"
   ]
  }
 ],
 "metadata": {
  "kernelspec": {
   "display_name": "Python 3",
   "language": "python",
   "name": "python3"
  },
  "language_info": {
   "codemirror_mode": {
    "name": "ipython",
    "version": 3
   },
   "file_extension": ".py",
   "mimetype": "text/x-python",
   "name": "python",
   "nbconvert_exporter": "python",
   "pygments_lexer": "ipython3",
   "version": "3.6.5"
  },
  "varInspector": {
   "cols": {
    "lenName": 16,
    "lenType": 16,
    "lenVar": 40
   },
   "kernels_config": {
    "python": {
     "delete_cmd_postfix": "",
     "delete_cmd_prefix": "del ",
     "library": "var_list.py",
     "varRefreshCmd": "print(var_dic_list())"
    },
    "r": {
     "delete_cmd_postfix": ") ",
     "delete_cmd_prefix": "rm(",
     "library": "var_list.r",
     "varRefreshCmd": "cat(var_dic_list()) "
    }
   },
   "types_to_exclude": [
    "module",
    "function",
    "builtin_function_or_method",
    "instance",
    "_Feature"
   ],
   "window_display": false
  }
 },
 "nbformat": 4,
 "nbformat_minor": 2
}
