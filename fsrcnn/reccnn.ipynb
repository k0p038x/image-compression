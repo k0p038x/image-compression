{
 "cells": [
  {
   "cell_type": "code",
   "execution_count": 1,
   "metadata": {},
   "outputs": [
    {
     "name": "stderr",
     "output_type": "stream",
     "text": [
      "/home/chandu/anaconda3/lib/python3.6/site-packages/h5py/__init__.py:36: FutureWarning: Conversion of the second argument of issubdtype from `float` to `np.floating` is deprecated. In future, it will be treated as `np.float64 == np.dtype(float).type`.\n",
      "  from ._conv import register_converters as _register_converters\n",
      "Using TensorFlow backend.\n"
     ]
    }
   ],
   "source": [
    "import numpy as np\n",
    "import cv2\n",
    "from keras.layers import Conv2D, Input, Layer, Conv2DTranspose\n",
    "import keras.layers\n",
    "from keras.models import Model\n",
    "import tensorflow as tf"
   ]
  },
  {
   "cell_type": "code",
   "execution_count": 2,
   "metadata": {},
   "outputs": [],
   "source": [
    "# Custom layer for bicubic interpolation \n",
    "\n",
    "class InterpolateTensor(Layer):\n",
    "    \n",
    "    # x, y : final size\n",
    "    # c : channels\n",
    "    def __init__(self, x, y, c, **kwargs):\n",
    "        self.x = x\n",
    "        self.y = y\n",
    "        self.channels = c\n",
    "        self.trainable = False\n",
    "        super(InterpolateTensor, self).__init__(**kwargs)\n",
    "    \n",
    "    def call(self, x):\n",
    "        return tf.image.resize_bicubic(x, (self.x, self.y))\n",
    "    \n",
    "    def compute_output_shape(self, input_shape):\n",
    "        return (input_shape[0], self.x, self.y, self.channels)\n",
    "    "
   ]
  },
  {
   "cell_type": "code",
   "execution_count": 3,
   "metadata": {},
   "outputs": [],
   "source": [
    "class RecCNN:\n",
    "    \n",
    "    def __init__(self, c):\n",
    "        self.channels = c\n",
    "        \n",
    "    def sisr(self, first):\n",
    "        \n",
    "        # similar to srcnn model \n",
    "        interp = InterpolateTensor(256, 256, 3)(first)\n",
    "        dup = interp\n",
    "        conv1 = Conv2D(filters=64, kernel_size=(9,9), activation='relu', padding='same')(interp)\n",
    "        conv2 = Conv2D(filters=32, kernel_size=(5,5), activation='relu', padding='same')(conv1)\n",
    "        res = Conv2D(self.channels, kernel_size=(5,5), activation='sigmoid', padding = 'same')(conv2)\n",
    "        last = keras.layers.add([dup, res])\n",
    "        return last\n",
    "    \n",
    "    def fsrcnn(self, inp, d=56, s=12, m=4, scale=4):\n",
    "        \n",
    "        conv1 = Conv2D(d, kernel_size=(5,5), activation='relu', padding='same')(inp)\n",
    "        conv2 = Conv2D(s, kernel_size=(1,1), activation='relu', padding='same')(conv1)\n",
    "        \n",
    "        for i in range(m):\n",
    "            conv2 = Conv2D(s, kernel_size=(3,3), activation='relu', padding='same')(conv2)\n",
    "    \n",
    "        conv3 = Conv2D(d, kernel_size=(1,1), activation='relu', padding='same')(conv2)\n",
    "        out = Conv2DTranspose(self.channels, kernel_size=(9,9), strides=4, padding='same')(conv3)\n",
    "        return out\n",
    "    \n",
    "    \n",
    "    \n",
    "        "
   ]
  },
  {
   "cell_type": "code",
   "execution_count": 17,
   "metadata": {},
   "outputs": [],
   "source": [
    "# inp2 = Input(shape=(125,125,3))\n",
    "# rec_cnn = RecCNN(3)\n",
    "# model_reccnn = Model(inp, colarization(autoencoder(inp)))\n",
    "\n",
    "# model_reccnn = Model(inp2, rec_cnn.sisr(inp2))\n",
    "# model_reccnn.compile(optimizer='adam', loss='mean_squared_error')\n",
    "# model_reccnn.summary()\n",
    "\n",
    "# inp2 = Input(shape=(125,125,3))\n",
    "# rec_cnn = RecCNN(3)\n",
    "# model_reccnn = Model(inp2, rec_cnn.fsrcnn(inp2))\n",
    "# model_reccnn.compile(optimizer='adam', loss='mean_squared_error')\n",
    "# model_reccnn.summary()"
   ]
  },
  {
   "cell_type": "code",
   "execution_count": 16,
   "metadata": {},
   "outputs": [
    {
     "name": "stdout",
     "output_type": "stream",
     "text": [
      "_________________________________________________________________\n",
      "Layer (type)                 Output Shape              Param #   \n",
      "=================================================================\n",
      "input_5 (InputLayer)         (None, 125, 125, 3)       0         \n",
      "_________________________________________________________________\n",
      "conv2d_21 (Conv2D)           (None, 125, 125, 56)      4256      \n",
      "_________________________________________________________________\n",
      "conv2d_22 (Conv2D)           (None, 125, 125, 12)      684       \n",
      "_________________________________________________________________\n",
      "conv2d_23 (Conv2D)           (None, 125, 125, 12)      1308      \n",
      "_________________________________________________________________\n",
      "conv2d_24 (Conv2D)           (None, 125, 125, 12)      1308      \n",
      "_________________________________________________________________\n",
      "conv2d_25 (Conv2D)           (None, 125, 125, 12)      1308      \n",
      "_________________________________________________________________\n",
      "conv2d_26 (Conv2D)           (None, 125, 125, 12)      1308      \n",
      "_________________________________________________________________\n",
      "conv2d_27 (Conv2D)           (None, 125, 125, 56)      728       \n",
      "_________________________________________________________________\n",
      "conv2d_transpose_1 (Conv2DTr (None, 500, 500, 3)       13611     \n",
      "=================================================================\n",
      "Total params: 24,511\n",
      "Trainable params: 24,511\n",
      "Non-trainable params: 0\n",
      "_________________________________________________________________\n"
     ]
    }
   ],
   "source": []
  }
 ],
 "metadata": {
  "kernelspec": {
   "display_name": "Python 3",
   "language": "python",
   "name": "python3"
  },
  "language_info": {
   "codemirror_mode": {
    "name": "ipython",
    "version": 3
   },
   "file_extension": ".py",
   "mimetype": "text/x-python",
   "name": "python",
   "nbconvert_exporter": "python",
   "pygments_lexer": "ipython3",
   "version": "3.6.5"
  },
  "varInspector": {
   "cols": {
    "lenName": 16,
    "lenType": 16,
    "lenVar": 40
   },
   "kernels_config": {
    "python": {
     "delete_cmd_postfix": "",
     "delete_cmd_prefix": "del ",
     "library": "var_list.py",
     "varRefreshCmd": "print(var_dic_list())"
    },
    "r": {
     "delete_cmd_postfix": ") ",
     "delete_cmd_prefix": "rm(",
     "library": "var_list.r",
     "varRefreshCmd": "cat(var_dic_list()) "
    }
   },
   "types_to_exclude": [
    "module",
    "function",
    "builtin_function_or_method",
    "instance",
    "_Feature"
   ],
   "window_display": false
  }
 },
 "nbformat": 4,
 "nbformat_minor": 2
}
