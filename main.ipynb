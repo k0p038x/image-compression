{
 "cells": [
  {
   "cell_type": "code",
   "execution_count": 1,
   "metadata": {},
   "outputs": [
    {
     "name": "stderr",
     "output_type": "stream",
     "text": [
      "/home/chandu/anaconda3/lib/python3.6/site-packages/h5py/__init__.py:36: FutureWarning: Conversion of the second argument of issubdtype from `float` to `np.floating` is deprecated. In future, it will be treated as `np.float64 == np.dtype(float).type`.\n",
      "  from ._conv import register_converters as _register_converters\n",
      "Using TensorFlow backend.\n"
     ]
    },
    {
     "name": "stdout",
     "output_type": "stream",
     "text": [
      "importing Jupyter notebook from reccnn.ipynb\n",
      "importing Jupyter notebook from comcnn.ipynb\n"
     ]
    }
   ],
   "source": [
    "from keras.models import Model\n",
    "from keras.datasets import mnist\n",
    "import numpy as np\n",
    "import matplotlib.pyplot as plt\n",
    "import import_ipynb\n",
    "from reccnn import RecCNN\n",
    "from comcnn import ComCNN"
   ]
  },
  {
   "cell_type": "code",
   "execution_count": 2,
   "metadata": {},
   "outputs": [],
   "source": [
    "import matplotlib.image as mpimg\n",
    "from PIL import Image\n",
    "import os\n",
    "\n",
    "def compressThis(x_input):\n",
    "    # x_input dimension (num, x, y, c)\n",
    "    # num - number of images\n",
    "    num = x_input.shape[0]\n",
    "    ans = []\n",
    "    for i in range(num):\n",
    "        x_single = x_input[i]\n",
    "        # compressing single image\n",
    "        mpimg.imsave(os.getcwd()+'/org.JPEG', x_single)\n",
    "        tmp = Image.open(os.getcwd()+'/org.JPEG')\n",
    "        tmp.save(os.getcwd()+'/com.JPEG',\"JPEG\", optimize=True, quality=65)\n",
    "        out_single = mpimg.imread(os.getcwd()+'/com.JPEG')\n",
    "        ans.append(out_single)\n",
    "        \n",
    "    return np.array(ans)\n",
    "        "
   ]
  },
  {
   "cell_type": "code",
   "execution_count": 3,
   "metadata": {},
   "outputs": [
    {
     "name": "stdout",
     "output_type": "stream",
     "text": [
      "(199, 375, 500, 3)\n"
     ]
    }
   ],
   "source": [
    "import os\n",
    "import matplotlib.image as mpimg\n",
    "\n",
    "loc = os.getcwd()+'/DSet-Color'\n",
    "X = []\n",
    "for i in os.listdir(loc):\n",
    "    im_loc = loc + '/'+i\n",
    "    img = mpimg.imread(im_loc)\n",
    "    X.append(img)\n",
    "\n",
    "X = np.array(X)\n",
    "print(X.shape)"
   ]
  },
  {
   "cell_type": "code",
   "execution_count": 4,
   "metadata": {},
   "outputs": [
    {
     "name": "stdout",
     "output_type": "stream",
     "text": [
      "(10, 375, 500, 3)\n",
      "(1, 375, 500, 3)\n"
     ]
    }
   ],
   "source": [
    "x_train = X[:190,:,:,:]\n",
    "x_test = X[190:,:,:,:]\n",
    "print(x_train.shape)\n",
    "print(x_test.shape)\n",
    "x_train = x_train.astype('float32')\n",
    "x_test = x_test.astype('float32')\n",
    "x_train/=255\n",
    "x_train*=2\n",
    "x_train-=1\n",
    "x_test/=255\n",
    "x_test*=2\n",
    "x_test-=1\n"
   ]
  },
  {
   "cell_type": "code",
   "execution_count": 34,
   "metadata": {},
   "outputs": [
    {
     "name": "stdout",
     "output_type": "stream",
     "text": [
      "__________________________________________________________________________________________________\n",
      "Layer (type)                    Output Shape         Param #     Connected to                     \n",
      "==================================================================================================\n",
      "input_9 (InputLayer)            (None, 25, 50, 3)    0                                            \n",
      "__________________________________________________________________________________________________\n",
      "interpolate_tensor_5 (Interpola (None, 375, 500, 3)  0           input_9[0][0]                    \n",
      "__________________________________________________________________________________________________\n",
      "conv2d_25 (Conv2D)              (None, 375, 500, 64) 4864        interpolate_tensor_5[0][0]       \n",
      "__________________________________________________________________________________________________\n",
      "conv2d_26 (Conv2D)              (None, 375, 500, 32) 18464       conv2d_25[0][0]                  \n",
      "__________________________________________________________________________________________________\n",
      "conv2d_27 (Conv2D)              (None, 375, 500, 3)  867         conv2d_26[0][0]                  \n",
      "__________________________________________________________________________________________________\n",
      "add_5 (Add)                     (None, 375, 500, 3)  0           interpolate_tensor_5[0][0]       \n",
      "                                                                 conv2d_27[0][0]                  \n",
      "==================================================================================================\n",
      "Total params: 24,195\n",
      "Trainable params: 24,195\n",
      "Non-trainable params: 0\n",
      "__________________________________________________________________________________________________\n",
      "_________________________________________________________________\n",
      "Layer (type)                 Output Shape              Param #   \n",
      "=================================================================\n",
      "input_10 (InputLayer)        (None, 375, 500, 3)       0         \n",
      "_________________________________________________________________\n",
      "conv2d_28 (Conv2D)           (None, 125, 250, 64)      4864      \n",
      "_________________________________________________________________\n",
      "conv2d_29 (Conv2D)           (None, 25, 50, 64)        200768    \n",
      "_________________________________________________________________\n",
      "conv2d_30 (Conv2D)           (None, 25, 50, 3)         1731      \n",
      "_________________________________________________________________\n",
      "model_13 (Model)             (None, 375, 500, 3)       24195     \n",
      "=================================================================\n",
      "Total params: 231,558\n",
      "Trainable params: 207,363\n",
      "Non-trainable params: 24,195\n",
      "_________________________________________________________________\n"
     ]
    }
   ],
   "source": [
    "from keras.layers import Input\n",
    "from keras.callbacks import ModelCheckpoint\n",
    "import tensorflow as tf\n",
    "\n",
    "\n",
    "inp2 = Input(shape=(25,50,3))\n",
    "rec_cnn = RecCNN(3)\n",
    "model_reccnn = Model(inp2, rec_cnn.sisr(inp2))\n",
    "model_reccnn.compile(optimizer='adam', loss='mean_squared_error', metrics=['accuracy'])\n",
    "checkpointr = ModelCheckpoint(filepath='reccnn.weights.best.hdf5', save_best_only=True, verbose=1)\n",
    "model_reccnn.summary()\n",
    "\n",
    "inp1 = Input(shape=(375,500,3))\n",
    "com_cnn = ComCNN(3)\n",
    "model_comcnn = Model(inp1, model_reccnn(com_cnn.compact(inp1)))\n",
    "model_comcnn.layers[4].trainable = False\n",
    "model_comcnn.compile(optimizer='adam', loss='mean_squared_error', metrics=['accuracy'])\n",
    "checkpointc = ModelCheckpoint(filepath='comcnn.weights.best.hdf5', save_best_only=True, verbose=1)\n",
    "model_comcnn.summary()"
   ]
  },
  {
   "cell_type": "code",
   "execution_count": 12,
   "metadata": {},
   "outputs": [
    {
     "name": "stderr",
     "output_type": "stream",
     "text": [
      "/home/chandu/anaconda3/lib/python3.6/site-packages/keras/engine/training.py:490: UserWarning: Discrepancy between trainable weights and collected trainable weights, did you set `model.trainable` without calling `model.compile` after ?\n",
      "  'Discrepancy between trainable weights and collected trainable'\n"
     ]
    },
    {
     "name": "stdout",
     "output_type": "stream",
     "text": [
      "Epoch 1/1\n",
      "10/10 [==============================] - 13s 1s/step - loss: 1.4910\n",
      "Epoch 1/1\n",
      "10/10 [==============================] - 8s 849ms/step - loss: 0.8300\n"
     ]
    }
   ],
   "source": [
    "count = 100\n",
    "\n",
    "while count > 100:\n",
    "    \n",
    "    # calculating cm using comcnn\n",
    "    upto_comcnn = Model(model_comcnn.input, model_comcnn.layers[3].output)\n",
    "    xm = upto_comcnn.predict(x_train)\n",
    "    xm = xm*255\n",
    "    xm = compressThis(xm)\n",
    "    xm = xm/255\n",
    "#     print(xm.shape)\n",
    "    \n",
    "    # train RecCNN\n",
    "    model_reccnn.fit(x=xm, y=x_train, epochs=20, shuffle=True, verbose=1, batch_size=8, callbacks=[checkpointr])\n",
    "    \n",
    "    # train ComCNN\n",
    "    model_comcnn.fit(x=x_train, y=x_train, epochs=20, shuffle=True, verbose=1, batch_size=8, callbacks=[checkpointc])\n",
    "    count = count - 1"
   ]
  }
 ],
 "metadata": {
  "kernelspec": {
   "display_name": "Python 3",
   "language": "python",
   "name": "python3"
  },
  "language_info": {
   "codemirror_mode": {
    "name": "ipython",
    "version": 3
   },
   "file_extension": ".py",
   "mimetype": "text/x-python",
   "name": "python",
   "nbconvert_exporter": "python",
   "pygments_lexer": "ipython3",
   "version": "3.6.5"
  },
  "varInspector": {
   "cols": {
    "lenName": 16,
    "lenType": 16,
    "lenVar": 40
   },
   "kernels_config": {
    "python": {
     "delete_cmd_postfix": "",
     "delete_cmd_prefix": "del ",
     "library": "var_list.py",
     "varRefreshCmd": "print(var_dic_list())"
    },
    "r": {
     "delete_cmd_postfix": ") ",
     "delete_cmd_prefix": "rm(",
     "library": "var_list.r",
     "varRefreshCmd": "cat(var_dic_list()) "
    }
   },
   "types_to_exclude": [
    "module",
    "function",
    "builtin_function_or_method",
    "instance",
    "_Feature"
   ],
   "window_display": false
  }
 },
 "nbformat": 4,
 "nbformat_minor": 2
}
