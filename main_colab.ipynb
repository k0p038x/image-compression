{
  "nbformat": 4,
  "nbformat_minor": 0,
  "metadata": {
    "colab": {
      "name": "main.ipynb",
      "version": "0.3.2",
      "provenance": [],
      "collapsed_sections": []
    },
    "kernelspec": {
      "name": "python3",
      "display_name": "Python 3"
    },
    "accelerator": "GPU"
  },
  "cells": [
    {
      "metadata": {
        "id": "rkpuUNRqJSjm",
        "colab_type": "code",
        "outputId": "9c5ad0df-10aa-49a9-e10b-84aa86344116",
        "colab": {
          "base_uri": "https://localhost:8080/",
          "height": 54
        }
      },
      "cell_type": "code",
      "source": [
        "from google.colab import drive\n",
        "drive.mount('/content/drive')"
      ],
      "execution_count": 1,
      "outputs": [
        {
          "output_type": "stream",
          "text": [
            "Drive already mounted at /content/drive; to attempt to forcibly remount, call drive.mount(\"/content/drive\", force_remount=True).\n"
          ],
          "name": "stdout"
        }
      ]
    },
    {
      "metadata": {
        "id": "nRX43DhPIocM",
        "colab_type": "code",
        "outputId": "61095c1d-14d4-4264-e98e-ed06901818f7",
        "colab": {
          "base_uri": "https://localhost:8080/",
          "height": 86
        }
      },
      "cell_type": "code",
      "source": [
        "!pip install import_ipynb\n",
        "from keras.models import Model\n",
        "from keras.datasets import mnist\n",
        "import numpy as np\n",
        "import matplotlib.pyplot as plt\n",
        "import import_ipynb\n",
        "from reccnn import RecCNN\n",
        "from comcnn import ComCNN\n"
      ],
      "execution_count": 2,
      "outputs": [
        {
          "output_type": "stream",
          "text": [
            "Requirement already satisfied: import_ipynb in /usr/local/lib/python3.6/dist-packages (0.1.3)\n"
          ],
          "name": "stdout"
        },
        {
          "output_type": "stream",
          "text": [
            "Using TensorFlow backend.\n"
          ],
          "name": "stderr"
        },
        {
          "output_type": "stream",
          "text": [
            "importing Jupyter notebook from reccnn.ipynb\n",
            "importing Jupyter notebook from comcnn.ipynb\n"
          ],
          "name": "stdout"
        }
      ]
    },
    {
      "metadata": {
        "id": "5V6UtTi3IocU",
        "colab_type": "code",
        "colab": {}
      },
      "cell_type": "code",
      "source": [
        "import matplotlib.image as mpimg\n",
        "from PIL import Image\n",
        "import os\n",
        "\n",
        "def compressThis(x_input):\n",
        "    # x_input dimension (num, x, y, c)\n",
        "    # num - number of images\n",
        "    num = x_input.shape[0]\n",
        "    ans = []\n",
        "    for i in range(num):\n",
        "        x_single = x_input[i]\n",
        "        # compressing single image\n",
        "        mpimg.imsave(os.getcwd()+'/org.JPEG', x_single)\n",
        "        tmp = Image.open(os.getcwd()+'/org.JPEG')\n",
        "        tmp.save(os.getcwd()+'/com.JPEG',\"JPEG\", optimize=True, quality=65)\n",
        "        out_single = mpimg.imread(os.getcwd()+'/com.JPEG')\n",
        "        ans.append(out_single)\n",
        "        \n",
        "    return np.array(ans)\n",
        "        "
      ],
      "execution_count": 0,
      "outputs": []
    },
    {
      "metadata": {
        "id": "UMbHQuSxIocX",
        "colab_type": "code",
        "outputId": "3ba06e39-2ff0-4d3b-997b-2647d97291ff",
        "colab": {
          "base_uri": "https://localhost:8080/",
          "height": 1063
        }
      },
      "cell_type": "code",
      "source": [
        "!pip install tqdm\n",
        "from tqdm import tqdm\n",
        "import os\n",
        "import matplotlib.image as mpimg\n",
        "import cv2\n",
        "\n",
        "loc = '/content/drive/My Drive/Subset16k'\n",
        "\n",
        "count1 = 0\n",
        "X = []\n",
        "for i in os.listdir(loc):\n",
        "  count1 = count1 + 1\n",
        "  if count1 == 6000:\n",
        "    break\n",
        "  if count1%100==0:\n",
        "    print(count1)\n",
        "  \n",
        "  im_loc = loc + '/'+i\n",
        "  img = cv2.imread(im_loc)\n",
        "  img = cv2.cvtColor(img, cv2.COLOR_BGR2RGB)\n",
        "  X.append(img)\n",
        "    \n",
        "\n",
        "X = np.array(X)\n",
        "# print(X[0])\n",
        "print(X.shape)"
      ],
      "execution_count": 4,
      "outputs": [
        {
          "output_type": "stream",
          "text": [
            "Requirement already satisfied: tqdm in /usr/local/lib/python3.6/dist-packages (4.28.1)\n",
            "100\n",
            "200\n",
            "300\n",
            "400\n",
            "500\n",
            "600\n",
            "700\n",
            "800\n",
            "900\n",
            "1000\n",
            "1100\n",
            "1200\n",
            "1300\n",
            "1400\n",
            "1500\n",
            "1600\n",
            "1700\n",
            "1800\n",
            "1900\n",
            "2000\n",
            "2100\n",
            "2200\n",
            "2300\n",
            "2400\n",
            "2500\n",
            "2600\n",
            "2700\n",
            "2800\n",
            "2900\n",
            "3000\n",
            "3100\n",
            "3200\n",
            "3300\n",
            "3400\n",
            "3500\n",
            "3600\n",
            "3700\n",
            "3800\n",
            "3900\n",
            "4000\n",
            "4100\n",
            "4200\n",
            "4300\n",
            "4400\n",
            "4500\n",
            "4600\n",
            "4700\n",
            "4800\n",
            "4900\n",
            "5000\n",
            "5100\n",
            "5200\n",
            "5300\n",
            "5400\n",
            "5500\n",
            "5600\n",
            "5700\n",
            "5800\n",
            "5900\n",
            "(5999, 256, 256, 3)\n"
          ],
          "name": "stdout"
        }
      ]
    },
    {
      "metadata": {
        "id": "FEGyVgZoL_cq",
        "colab_type": "code",
        "colab": {
          "base_uri": "https://localhost:8080/",
          "height": 34
        },
        "outputId": "48de0b92-b787-4df1-8d23-079068514eeb"
      },
      "cell_type": "code",
      "source": [
        "print(X.shape)"
      ],
      "execution_count": 5,
      "outputs": [
        {
          "output_type": "stream",
          "text": [
            "(5999, 256, 256, 3)\n"
          ],
          "name": "stdout"
        }
      ]
    },
    {
      "metadata": {
        "id": "VwcdKCBkxo1u",
        "colab_type": "code",
        "outputId": "d1fdd543-1cfb-402f-a912-03b7d94bbef5",
        "colab": {
          "base_uri": "https://localhost:8080/",
          "height": 350
        }
      },
      "cell_type": "code",
      "source": [
        "#checking images\n",
        "import matplotlib.pyplot as plt\n",
        "plt.imshow(X[0])\n",
        "plt.show()"
      ],
      "execution_count": 6,
      "outputs": [
        {
          "output_type": "display_data",
          "data": {
            "image/png": "[encoded data removed]",
            "text/plain": [
              "<Figure size 576x396 with 1 Axes>"
            ]
          },
          "metadata": {
            "tags": []
          }
        }
      ]
    },
    {
      "metadata": {
        "id": "7VGcn_vuIoca",
        "colab_type": "code",
        "outputId": "34a6928c-d98a-497b-9705-d0b3a37ac2f7",
        "colab": {
          "base_uri": "https://localhost:8080/",
          "height": 51
        }
      },
      "cell_type": "code",
      "source": [
        "x_train = X[:4800,:,:,:]\n",
        "x_test = X[4800:,:,:,:]\n",
        "print(x_train.shape)\n",
        "print(x_test.shape)\n",
        "\n",
        "x_train = x_train.astype('float32')\n",
        "x_test = x_test.astype('float32')\n",
        "x_train = x_train / 255\n",
        "x_test = x_test / 255\n"
      ],
      "execution_count": 7,
      "outputs": [
        {
          "output_type": "stream",
          "text": [
            "(4800, 256, 256, 3)\n",
            "(1199, 256, 256, 3)\n"
          ],
          "name": "stdout"
        }
      ]
    },
    {
      "metadata": {
        "id": "o-ssKOCGIocf",
        "colab_type": "code",
        "outputId": "efc48d18-91c8-4353-d12d-cd7cc802decd",
        "colab": {
          "base_uri": "https://localhost:8080/",
          "height": 808
        }
      },
      "cell_type": "code",
      "source": [
        "from keras.layers import Input\n",
        "from keras.callbacks import ModelCheckpoint\n",
        "import tensorflow as tf\n",
        "\n",
        "\n",
        "inp2 = Input(shape=(64, 64, 3))\n",
        "rec_cnn = RecCNN(3)\n",
        "model_reccnn = Model(inp2, rec_cnn.fsrcnn(inp2))\n",
        "model_reccnn.compile(optimizer='adam', loss='mean_squared_error', metrics=['accuracy'])\n",
        "checkpointr = ModelCheckpoint(filepath='reccnn.weights.best.hdf5', save_best_only=True, verbose=1)\n",
        "model_reccnn.summary()\n",
        "\n",
        "inp1 = Input(shape=(256, 256, 3))\n",
        "com_cnn = ComCNN(3)\n",
        "model_comcnn = Model(inp1, model_reccnn(com_cnn.compact(inp1)))\n",
        "model_comcnn.layers[4].trainable = False\n",
        "model_comcnn.compile(optimizer='adam', loss='mean_squared_error', metrics=['accuracy'])\n",
        "checkpointc = ModelCheckpoint(filepath='comcnn.weights.best.hdf5', save_best_only=True, verbose=1)\n",
        "model_comcnn.summary()\n"
      ],
      "execution_count": 8,
      "outputs": [
        {
          "output_type": "stream",
          "text": [
            "WARNING:tensorflow:From /usr/local/lib/python3.6/dist-packages/tensorflow/python/framework/op_def_library.py:263: colocate_with (from tensorflow.python.framework.ops) is deprecated and will be removed in a future version.\n",
            "Instructions for updating:\n",
            "Colocations handled automatically by placer.\n",
            "_________________________________________________________________\n",
            "Layer (type)                 Output Shape              Param #   \n",
            "=================================================================\n",
            "input_1 (InputLayer)         (None, 64, 64, 3)         0         \n",
            "_________________________________________________________________\n",
            "conv2d_1 (Conv2D)            (None, 64, 64, 56)        4256      \n",
            "_________________________________________________________________\n",
            "conv2d_2 (Conv2D)            (None, 64, 64, 12)        684       \n",
            "_________________________________________________________________\n",
            "conv2d_3 (Conv2D)            (None, 64, 64, 12)        1308      \n",
            "_________________________________________________________________\n",
            "conv2d_4 (Conv2D)            (None, 64, 64, 12)        1308      \n",
            "_________________________________________________________________\n",
            "conv2d_5 (Conv2D)            (None, 64, 64, 12)        1308      \n",
            "_________________________________________________________________\n",
            "conv2d_6 (Conv2D)            (None, 64, 64, 12)        1308      \n",
            "_________________________________________________________________\n",
            "conv2d_7 (Conv2D)            (None, 64, 64, 56)        728       \n",
            "_________________________________________________________________\n",
            "conv2d_transpose_1 (Conv2DTr (None, 256, 256, 3)       13611     \n",
            "=================================================================\n",
            "Total params: 24,511\n",
            "Trainable params: 24,511\n",
            "Non-trainable params: 0\n",
            "_________________________________________________________________\n",
            "_________________________________________________________________\n",
            "Layer (type)                 Output Shape              Param #   \n",
            "=================================================================\n",
            "input_2 (InputLayer)         (None, 256, 256, 3)       0         \n",
            "_________________________________________________________________\n",
            "conv2d_8 (Conv2D)            (None, 256, 256, 64)      1792      \n",
            "_________________________________________________________________\n",
            "conv2d_9 (Conv2D)            (None, 128, 128, 32)      18464     \n",
            "_________________________________________________________________\n",
            "conv2d_10 (Conv2D)           (None, 64, 64, 3)         867       \n",
            "_________________________________________________________________\n",
            "model_1 (Model)              (None, 256, 256, 3)       24511     \n",
            "=================================================================\n",
            "Total params: 45,634\n",
            "Trainable params: 21,123\n",
            "Non-trainable params: 24,511\n",
            "_________________________________________________________________\n"
          ],
          "name": "stdout"
        }
      ]
    },
    {
      "metadata": {
        "id": "QxphZvGTIock",
        "colab_type": "code",
        "outputId": "93d75755-9f0b-4dd2-8c50-a64220bbd972",
        "colab": {
          "base_uri": "https://localhost:8080/",
          "height": 10820
        }
      },
      "cell_type": "code",
      "source": [
        "count = 25\n",
        "x_valid = x_test\n",
        "\n",
        "for i in tqdm(range(count)):\n",
        "  \n",
        "#   print(\"------- Count : \" + str(count)+\" ---------\")\n",
        "  \n",
        "  # calculating cm using comcnn\n",
        "  upto_comcnn = Model(model_comcnn.input, model_comcnn.layers[3].output)\n",
        "  xm = upto_comcnn.predict(x_train)\n",
        "  xm_valid = upto_comcnn.predict(x_valid)\n",
        "\n",
        "  \n",
        "  # train RecCNN\n",
        "  model_reccnn.fit(x=xm, y=x_train, validation_data=(xm_valid, x_valid),epochs=5, shuffle=True, verbose=1, batch_size=8, callbacks=[checkpointr])\n",
        "  \n",
        "  # train ComCNN\n",
        "  model_comcnn.fit(x=x_train, y=x_train, validation_data=(x_valid, x_valid),epochs=5, shuffle=True, verbose=1, batch_size=8, callbacks=[checkpointc])\n",
        "  "
      ],
      "execution_count": 9,
      "outputs": [
        {
          "output_type": "stream",
          "text": [
            "\r  0%|          | 0/25 [00:00<?, ?it/s]"
          ],
          "name": "stderr"
        },
        {
          "output_type": "stream",
          "text": [
            "WARNING:tensorflow:From /usr/local/lib/python3.6/dist-packages/tensorflow/python/ops/math_ops.py:3066: to_int32 (from tensorflow.python.ops.math_ops) is deprecated and will be removed in a future version.\n",
            "Instructions for updating:\n",
            "Use tf.cast instead.\n"
          ],
          "name": "stdout"
        },
        {
          "output_type": "stream",
          "text": [
            "/usr/local/lib/python3.6/dist-packages/keras/engine/training.py:490: UserWarning: Discrepancy between trainable weights and collected trainable weights, did you set `model.trainable` without calling `model.compile` after ?\n",
            "  'Discrepancy between trainable weights and collected trainable'\n"
          ],
          "name": "stderr"
        },
        {
          "output_type": "stream",
          "text": [
            "Train on 4800 samples, validate on 1199 samples\n",
            "Epoch 1/5\n",
            "4800/4800 [==============================] - 15s 3ms/step - loss: 0.0822 - acc: 0.5320 - val_loss: 0.0780 - val_acc: 0.5730\n",
            "\n",
            "Epoch 00001: val_loss improved from inf to 0.07803, saving model to reccnn.weights.best.hdf5\n",
            "Epoch 2/5\n",
            "4800/4800 [==============================] - 14s 3ms/step - loss: 0.0772 - acc: 0.5544 - val_loss: 0.0779 - val_acc: 0.5746\n",
            "\n",
            "Epoch 00002: val_loss improved from 0.07803 to 0.07788, saving model to reccnn.weights.best.hdf5\n",
            "Epoch 3/5\n",
            "4800/4800 [==============================] - 14s 3ms/step - loss: 0.0771 - acc: 0.5585 - val_loss: 0.0780 - val_acc: 0.5784\n",
            "\n",
            "Epoch 00003: val_loss did not improve from 0.07788\n",
            "Epoch 4/5\n",
            "4800/4800 [==============================] - 14s 3ms/step - loss: 0.0771 - acc: 0.5588 - val_loss: 0.0778 - val_acc: 0.5761\n",
            "\n",
            "Epoch 00004: val_loss improved from 0.07788 to 0.07783, saving model to reccnn.weights.best.hdf5\n",
            "Epoch 5/5\n",
            "4800/4800 [==============================] - 14s 3ms/step - loss: 0.0770 - acc: 0.5586 - val_loss: 0.0778 - val_acc: 0.5696\n",
            "\n",
            "Epoch 00005: val_loss did not improve from 0.07783\n",
            "Train on 4800 samples, validate on 1199 samples\n",
            "Epoch 1/5\n",
            "4800/4800 [==============================] - 51s 11ms/step - loss: 0.0759 - acc: 0.5505 - val_loss: 0.0769 - val_acc: 0.5663\n",
            "\n",
            "Epoch 00001: val_loss improved from inf to 0.07688, saving model to comcnn.weights.best.hdf5\n",
            "Epoch 2/5\n",
            "4800/4800 [==============================] - 50s 10ms/step - loss: 0.0757 - acc: 0.5505 - val_loss: 0.0768 - val_acc: 0.5668\n",
            "\n",
            "Epoch 00002: val_loss improved from 0.07688 to 0.07683, saving model to comcnn.weights.best.hdf5\n",
            "Epoch 3/5\n",
            "4800/4800 [==============================] - 50s 10ms/step - loss: 0.0757 - acc: 0.5509 - val_loss: 0.0768 - val_acc: 0.5668\n",
            "\n",
            "Epoch 00003: val_loss improved from 0.07683 to 0.07681, saving model to comcnn.weights.best.hdf5\n",
            "Epoch 4/5\n",
            "4800/4800 [==============================] - 50s 10ms/step - loss: 0.0757 - acc: 0.5509 - val_loss: 0.0768 - val_acc: 0.5667\n",
            "\n",
            "Epoch 00004: val_loss improved from 0.07681 to 0.07680, saving model to comcnn.weights.best.hdf5\n",
            "Epoch 5/5\n",
            "4800/4800 [==============================] - 50s 10ms/step - loss: 0.0757 - acc: 0.5509 - val_loss: 0.0768 - val_acc: 0.5668\n"
          ],
          "name": "stdout"
        },
        {
          "output_type": "stream",
          "text": [
            "\r  4%|▍         | 1/25 [05:41<2:16:38, 341.59s/it]"
          ],
          "name": "stderr"
        },
        {
          "output_type": "stream",
          "text": [
            "\n",
            "Epoch 00005: val_loss improved from 0.07680 to 0.07679, saving model to comcnn.weights.best.hdf5\n",
            "Train on 4800 samples, validate on 1199 samples\n",
            "Epoch 1/5\n",
            "4800/4800 [==============================] - 14s 3ms/step - loss: 0.0275 - acc: 0.5104 - val_loss: 0.0243 - val_acc: 0.4594\n",
            "\n",
            "Epoch 00001: val_loss improved from 0.07783 to 0.02426, saving model to reccnn.weights.best.hdf5\n",
            "Epoch 2/5\n",
            "4800/4800 [==============================] - 14s 3ms/step - loss: 0.0232 - acc: 0.4933 - val_loss: 0.0250 - val_acc: 0.5152\n",
            "\n",
            "Epoch 00002: val_loss did not improve from 0.02426\n",
            "Epoch 3/5\n",
            "4800/4800 [==============================] - 14s 3ms/step - loss: 0.0220 - acc: 0.4888 - val_loss: 0.0223 - val_acc: 0.5453\n",
            "\n",
            "Epoch 00003: val_loss improved from 0.02426 to 0.02228, saving model to reccnn.weights.best.hdf5\n",
            "Epoch 4/5\n",
            "4800/4800 [==============================] - 14s 3ms/step - loss: 0.0212 - acc: 0.4864 - val_loss: 0.0216 - val_acc: 0.4201\n",
            "\n",
            "Epoch 00004: val_loss improved from 0.02228 to 0.02156, saving model to reccnn.weights.best.hdf5\n",
            "Epoch 5/5\n",
            "4800/4800 [==============================] - 14s 3ms/step - loss: 0.0210 - acc: 0.4864 - val_loss: 0.0211 - val_acc: 0.5306\n",
            "\n",
            "Epoch 00005: val_loss improved from 0.02156 to 0.02107, saving model to reccnn.weights.best.hdf5\n",
            "Train on 4800 samples, validate on 1199 samples\n",
            "Epoch 1/5\n",
            "4800/4800 [==============================] - 50s 10ms/step - loss: 0.0169 - acc: 0.5084 - val_loss: 0.0160 - val_acc: 0.5248\n",
            "\n",
            "Epoch 00001: val_loss improved from 0.07679 to 0.01603, saving model to comcnn.weights.best.hdf5\n",
            "Epoch 2/5\n",
            "4800/4800 [==============================] - 50s 10ms/step - loss: 0.0157 - acc: 0.5063 - val_loss: 0.0159 - val_acc: 0.5226\n",
            "\n",
            "Epoch 00002: val_loss improved from 0.01603 to 0.01587, saving model to comcnn.weights.best.hdf5\n",
            "Epoch 3/5\n",
            "4800/4800 [==============================] - 50s 10ms/step - loss: 0.0155 - acc: 0.5063 - val_loss: 0.0157 - val_acc: 0.5208\n",
            "\n",
            "Epoch 00003: val_loss improved from 0.01587 to 0.01575, saving model to comcnn.weights.best.hdf5\n",
            "Epoch 4/5\n",
            "4800/4800 [==============================] - 50s 10ms/step - loss: 0.0155 - acc: 0.5064 - val_loss: 0.0157 - val_acc: 0.5227\n",
            "\n",
            "Epoch 00004: val_loss improved from 0.01575 to 0.01572, saving model to comcnn.weights.best.hdf5\n",
            "Epoch 5/5\n",
            "4800/4800 [==============================] - 50s 10ms/step - loss: 0.0154 - acc: 0.5066 - val_loss: 0.0156 - val_acc: 0.5220\n"
          ],
          "name": "stdout"
        },
        {
          "output_type": "stream",
          "text": [
            "\r  8%|▊         | 2/25 [11:17<2:10:15, 339.79s/it]"
          ],
          "name": "stderr"
        },
        {
          "output_type": "stream",
          "text": [
            "\n",
            "Epoch 00005: val_loss improved from 0.01572 to 0.01563, saving model to comcnn.weights.best.hdf5\n",
            "Train on 4800 samples, validate on 1199 samples\n",
            "Epoch 1/5\n",
            "4800/4800 [==============================] - 14s 3ms/step - loss: 0.0139 - acc: 0.5023 - val_loss: 0.0134 - val_acc: 0.5718\n",
            "\n",
            "Epoch 00001: val_loss improved from 0.02107 to 0.01342, saving model to reccnn.weights.best.hdf5\n",
            "Epoch 2/5\n",
            "4800/4800 [==============================] - 14s 3ms/step - loss: 0.0133 - acc: 0.5046 - val_loss: 0.0136 - val_acc: 0.5404\n",
            "\n",
            "Epoch 00002: val_loss did not improve from 0.01342\n",
            "Epoch 3/5\n",
            "4800/4800 [==============================] - 14s 3ms/step - loss: 0.0133 - acc: 0.5029 - val_loss: 0.0131 - val_acc: 0.4986\n",
            "\n",
            "Epoch 00003: val_loss improved from 0.01342 to 0.01312, saving model to reccnn.weights.best.hdf5\n",
            "Epoch 4/5\n",
            "4800/4800 [==============================] - 14s 3ms/step - loss: 0.0130 - acc: 0.4985 - val_loss: 0.0126 - val_acc: 0.5513\n",
            "\n",
            "Epoch 00004: val_loss improved from 0.01312 to 0.01263, saving model to reccnn.weights.best.hdf5\n",
            "Epoch 5/5\n",
            "4800/4800 [==============================] - 14s 3ms/step - loss: 0.0128 - acc: 0.5003 - val_loss: 0.0130 - val_acc: 0.4869\n",
            "\n",
            "Epoch 00005: val_loss did not improve from 0.01263\n",
            "Train on 4800 samples, validate on 1199 samples\n",
            "Epoch 1/5\n",
            "4800/4800 [==============================] - 49s 10ms/step - loss: 0.0117 - acc: 0.5099 - val_loss: 0.0115 - val_acc: 0.5149\n",
            "\n",
            "Epoch 00001: val_loss improved from 0.01563 to 0.01147, saving model to comcnn.weights.best.hdf5\n",
            "Epoch 2/5\n",
            "4800/4800 [==============================] - 49s 10ms/step - loss: 0.0112 - acc: 0.5175 - val_loss: 0.0117 - val_acc: 0.5305\n",
            "\n",
            "Epoch 00002: val_loss did not improve from 0.01147\n",
            "Epoch 3/5\n",
            "4800/4800 [==============================] - 49s 10ms/step - loss: 0.0111 - acc: 0.5210 - val_loss: 0.0113 - val_acc: 0.5224\n",
            "\n",
            "Epoch 00003: val_loss improved from 0.01147 to 0.01135, saving model to comcnn.weights.best.hdf5\n",
            "Epoch 4/5\n",
            "4800/4800 [==============================] - 49s 10ms/step - loss: 0.0111 - acc: 0.5226 - val_loss: 0.0112 - val_acc: 0.5282\n",
            "\n",
            "Epoch 00004: val_loss improved from 0.01135 to 0.01123, saving model to comcnn.weights.best.hdf5\n",
            "Epoch 5/5\n",
            "4800/4800 [==============================] - 49s 10ms/step - loss: 0.0111 - acc: 0.5256 - val_loss: 0.0114 - val_acc: 0.5145\n"
          ],
          "name": "stdout"
        },
        {
          "output_type": "stream",
          "text": [
            "\r 12%|█▏        | 3/25 [16:48<2:03:37, 337.18s/it]"
          ],
          "name": "stderr"
        },
        {
          "output_type": "stream",
          "text": [
            "\n",
            "Epoch 00005: val_loss did not improve from 0.01123\n",
            "Train on 4800 samples, validate on 1199 samples\n",
            "Epoch 1/5\n",
            "4800/4800 [==============================] - 14s 3ms/step - loss: 0.0087 - acc: 0.5665 - val_loss: 0.0083 - val_acc: 0.6182\n",
            "\n",
            "Epoch 00001: val_loss improved from 0.01263 to 0.00831, saving model to reccnn.weights.best.hdf5\n",
            "Epoch 2/5\n",
            "4800/4800 [==============================] - 14s 3ms/step - loss: 0.0080 - acc: 0.5775 - val_loss: 0.0088 - val_acc: 0.4650\n",
            "\n",
            "Epoch 00002: val_loss did not improve from 0.00831\n",
            "Epoch 3/5\n",
            "4800/4800 [==============================] - 14s 3ms/step - loss: 0.0077 - acc: 0.5850 - val_loss: 0.0086 - val_acc: 0.5162\n",
            "\n",
            "Epoch 00003: val_loss did not improve from 0.00831\n",
            "Epoch 4/5\n",
            "4800/4800 [==============================] - 14s 3ms/step - loss: 0.0076 - acc: 0.5951 - val_loss: 0.0076 - val_acc: 0.5895\n",
            "\n",
            "Epoch 00004: val_loss improved from 0.00831 to 0.00764, saving model to reccnn.weights.best.hdf5\n",
            "Epoch 5/5\n",
            "4800/4800 [==============================] - 14s 3ms/step - loss: 0.0075 - acc: 0.5944 - val_loss: 0.0081 - val_acc: 0.6238\n",
            "\n",
            "Epoch 00005: val_loss did not improve from 0.00764\n",
            "Train on 4800 samples, validate on 1199 samples\n",
            "Epoch 1/5\n",
            "4800/4800 [==============================] - 50s 10ms/step - loss: 0.0070 - acc: 0.6330 - val_loss: 0.0072 - val_acc: 0.6439\n",
            "\n",
            "Epoch 00001: val_loss improved from 0.01123 to 0.00718, saving model to comcnn.weights.best.hdf5\n",
            "Epoch 2/5\n",
            "4800/4800 [==============================] - 50s 10ms/step - loss: 0.0069 - acc: 0.6409 - val_loss: 0.0072 - val_acc: 0.6427\n",
            "\n",
            "Epoch 00002: val_loss did not improve from 0.00718\n",
            "Epoch 3/5\n",
            "4800/4800 [==============================] - 50s 10ms/step - loss: 0.0068 - acc: 0.6441 - val_loss: 0.0071 - val_acc: 0.6485\n",
            "\n",
            "Epoch 00003: val_loss improved from 0.00718 to 0.00711, saving model to comcnn.weights.best.hdf5\n",
            "Epoch 4/5\n",
            "4800/4800 [==============================] - 50s 10ms/step - loss: 0.0068 - acc: 0.6459 - val_loss: 0.0071 - val_acc: 0.6545\n",
            "\n",
            "Epoch 00004: val_loss improved from 0.00711 to 0.00707, saving model to comcnn.weights.best.hdf5\n",
            "Epoch 5/5\n",
            "4800/4800 [==============================] - 50s 10ms/step - loss: 0.0068 - acc: 0.6469 - val_loss: 0.0071 - val_acc: 0.6551\n"
          ],
          "name": "stdout"
        },
        {
          "output_type": "stream",
          "text": [
            "\r 16%|█▌        | 4/25 [22:21<1:57:37, 336.09s/it]"
          ],
          "name": "stderr"
        },
        {
          "output_type": "stream",
          "text": [
            "\n",
            "Epoch 00005: val_loss did not improve from 0.00707\n",
            "Train on 4800 samples, validate on 1199 samples\n",
            "Epoch 1/5\n",
            "4800/4800 [==============================] - 14s 3ms/step - loss: 0.0066 - acc: 0.6349 - val_loss: 0.0067 - val_acc: 0.6104\n",
            "\n",
            "Epoch 00001: val_loss improved from 0.00764 to 0.00666, saving model to reccnn.weights.best.hdf5\n",
            "Epoch 2/5\n",
            "4800/4800 [==============================] - 14s 3ms/step - loss: 0.0064 - acc: 0.6387 - val_loss: 0.0067 - val_acc: 0.5900\n",
            "\n",
            "Epoch 00002: val_loss did not improve from 0.00666\n",
            "Epoch 3/5\n",
            "4800/4800 [==============================] - 14s 3ms/step - loss: 0.0063 - acc: 0.6402 - val_loss: 0.0065 - val_acc: 0.6000\n",
            "\n",
            "Epoch 00003: val_loss improved from 0.00666 to 0.00646, saving model to reccnn.weights.best.hdf5\n",
            "Epoch 4/5\n",
            "4800/4800 [==============================] - 14s 3ms/step - loss: 0.0061 - acc: 0.6432 - val_loss: 0.0071 - val_acc: 0.6313\n",
            "\n",
            "Epoch 00004: val_loss did not improve from 0.00646\n",
            "Epoch 5/5\n",
            "4800/4800 [==============================] - 14s 3ms/step - loss: 0.0060 - acc: 0.6439 - val_loss: 0.0063 - val_acc: 0.6072\n",
            "\n",
            "Epoch 00005: val_loss improved from 0.00646 to 0.00633, saving model to reccnn.weights.best.hdf5\n",
            "Train on 4800 samples, validate on 1199 samples\n",
            "Epoch 1/5\n",
            "4800/4800 [==============================] - 50s 10ms/step - loss: 0.0057 - acc: 0.6010 - val_loss: 0.0060 - val_acc: 0.6024\n",
            "\n",
            "Epoch 00001: val_loss improved from 0.00707 to 0.00598, saving model to comcnn.weights.best.hdf5\n",
            "Epoch 2/5\n",
            "4800/4800 [==============================] - 50s 10ms/step - loss: 0.0057 - acc: 0.6011 - val_loss: 0.0060 - val_acc: 0.6084\n",
            "\n",
            "Epoch 00002: val_loss improved from 0.00598 to 0.00597, saving model to comcnn.weights.best.hdf5\n",
            "Epoch 3/5\n",
            "4800/4800 [==============================] - 50s 10ms/step - loss: 0.0057 - acc: 0.6015 - val_loss: 0.0061 - val_acc: 0.6030\n",
            "\n",
            "Epoch 00003: val_loss did not improve from 0.00597\n",
            "Epoch 4/5\n",
            "4800/4800 [==============================] - 50s 10ms/step - loss: 0.0057 - acc: 0.6026 - val_loss: 0.0059 - val_acc: 0.6110\n",
            "\n",
            "Epoch 00004: val_loss improved from 0.00597 to 0.00594, saving model to comcnn.weights.best.hdf5\n",
            "Epoch 5/5\n",
            "4800/4800 [==============================] - 50s 10ms/step - loss: 0.0057 - acc: 0.6020 - val_loss: 0.0060 - val_acc: 0.6007\n"
          ],
          "name": "stdout"
        },
        {
          "output_type": "stream",
          "text": [
            "\r 20%|██        | 5/25 [27:55<1:51:46, 335.33s/it]"
          ],
          "name": "stderr"
        },
        {
          "output_type": "stream",
          "text": [
            "\n",
            "Epoch 00005: val_loss did not improve from 0.00594\n",
            "Train on 4800 samples, validate on 1199 samples\n",
            "Epoch 1/5\n",
            "4800/4800 [==============================] - 14s 3ms/step - loss: 0.0056 - acc: 0.6516 - val_loss: 0.0058 - val_acc: 0.6757\n",
            "\n",
            "Epoch 00001: val_loss improved from 0.00633 to 0.00582, saving model to reccnn.weights.best.hdf5\n",
            "Epoch 2/5\n",
            "4800/4800 [==============================] - 14s 3ms/step - loss: 0.0055 - acc: 0.6488 - val_loss: 0.0056 - val_acc: 0.6274\n",
            "\n",
            "Epoch 00002: val_loss improved from 0.00582 to 0.00560, saving model to reccnn.weights.best.hdf5\n",
            "Epoch 3/5\n",
            "4800/4800 [==============================] - 14s 3ms/step - loss: 0.0054 - acc: 0.6561 - val_loss: 0.0056 - val_acc: 0.6256\n",
            "\n",
            "Epoch 00003: val_loss improved from 0.00560 to 0.00558, saving model to reccnn.weights.best.hdf5\n",
            "Epoch 4/5\n",
            "4800/4800 [==============================] - 14s 3ms/step - loss: 0.0054 - acc: 0.6506 - val_loss: 0.0055 - val_acc: 0.6434\n",
            "\n",
            "Epoch 00004: val_loss improved from 0.00558 to 0.00547, saving model to reccnn.weights.best.hdf5\n",
            "Epoch 5/5\n",
            "4800/4800 [==============================] - 14s 3ms/step - loss: 0.0053 - acc: 0.6539 - val_loss: 0.0055 - val_acc: 0.6495\n",
            "\n",
            "Epoch 00005: val_loss did not improve from 0.00547\n",
            "Train on 4800 samples, validate on 1199 samples\n",
            "Epoch 1/5\n",
            "4800/4800 [==============================] - 50s 10ms/step - loss: 0.0051 - acc: 0.6456 - val_loss: 0.0054 - val_acc: 0.6507\n",
            "\n",
            "Epoch 00001: val_loss improved from 0.00594 to 0.00537, saving model to comcnn.weights.best.hdf5\n",
            "Epoch 2/5\n",
            "4800/4800 [==============================] - 50s 10ms/step - loss: 0.0051 - acc: 0.6457 - val_loss: 0.0053 - val_acc: 0.6513\n",
            "\n",
            "Epoch 00002: val_loss improved from 0.00537 to 0.00534, saving model to comcnn.weights.best.hdf5\n",
            "Epoch 3/5\n",
            "4800/4800 [==============================] - 50s 10ms/step - loss: 0.0051 - acc: 0.6468 - val_loss: 0.0054 - val_acc: 0.6418\n",
            "\n",
            "Epoch 00003: val_loss did not improve from 0.00534\n",
            "Epoch 4/5\n",
            "4800/4800 [==============================] - 50s 10ms/step - loss: 0.0051 - acc: 0.6470 - val_loss: 0.0054 - val_acc: 0.6469\n",
            "\n",
            "Epoch 00004: val_loss did not improve from 0.00534\n",
            "Epoch 5/5\n",
            "4800/4800 [==============================] - 50s 10ms/step - loss: 0.0051 - acc: 0.6467 - val_loss: 0.0053 - val_acc: 0.6461\n"
          ],
          "name": "stdout"
        },
        {
          "output_type": "stream",
          "text": [
            "\r 24%|██▍       | 6/25 [33:29<1:46:03, 334.92s/it]"
          ],
          "name": "stderr"
        },
        {
          "output_type": "stream",
          "text": [
            "\n",
            "Epoch 00005: val_loss improved from 0.00534 to 0.00533, saving model to comcnn.weights.best.hdf5\n",
            "Train on 4800 samples, validate on 1199 samples\n",
            "Epoch 1/5\n",
            "4800/4800 [==============================] - 14s 3ms/step - loss: 0.0051 - acc: 0.6615 - val_loss: 0.0053 - val_acc: 0.6946\n",
            "\n",
            "Epoch 00001: val_loss improved from 0.00547 to 0.00525, saving model to reccnn.weights.best.hdf5\n",
            "Epoch 2/5\n",
            "4800/4800 [==============================] - 14s 3ms/step - loss: 0.0051 - acc: 0.6597 - val_loss: 0.0052 - val_acc: 0.6752\n",
            "\n",
            "Epoch 00002: val_loss improved from 0.00525 to 0.00522, saving model to reccnn.weights.best.hdf5\n",
            "Epoch 3/5\n",
            "4800/4800 [==============================] - 14s 3ms/step - loss: 0.0051 - acc: 0.6597 - val_loss: 0.0052 - val_acc: 0.7126\n",
            "\n",
            "Epoch 00003: val_loss did not improve from 0.00522\n",
            "Epoch 4/5\n",
            "4800/4800 [==============================] - 14s 3ms/step - loss: 0.0050 - acc: 0.6623 - val_loss: 0.0052 - val_acc: 0.6704\n",
            "\n",
            "Epoch 00004: val_loss improved from 0.00522 to 0.00519, saving model to reccnn.weights.best.hdf5\n",
            "Epoch 5/5\n",
            "4800/4800 [==============================] - 14s 3ms/step - loss: 0.0050 - acc: 0.6653 - val_loss: 0.0053 - val_acc: 0.6813\n",
            "\n",
            "Epoch 00005: val_loss did not improve from 0.00519\n",
            "Train on 4800 samples, validate on 1199 samples\n",
            "Epoch 1/5\n",
            "4800/4800 [==============================] - 50s 10ms/step - loss: 0.0049 - acc: 0.6885 - val_loss: 0.0051 - val_acc: 0.6865\n",
            "\n",
            "Epoch 00001: val_loss improved from 0.00533 to 0.00514, saving model to comcnn.weights.best.hdf5\n",
            "Epoch 2/5\n",
            "4800/4800 [==============================] - 50s 10ms/step - loss: 0.0049 - acc: 0.6889 - val_loss: 0.0051 - val_acc: 0.6958\n",
            "\n",
            "Epoch 00002: val_loss improved from 0.00514 to 0.00512, saving model to comcnn.weights.best.hdf5\n",
            "Epoch 3/5\n",
            "4800/4800 [==============================] - 50s 10ms/step - loss: 0.0048 - acc: 0.6896 - val_loss: 0.0050 - val_acc: 0.6948\n",
            "\n",
            "Epoch 00003: val_loss improved from 0.00512 to 0.00505, saving model to comcnn.weights.best.hdf5\n",
            "Epoch 4/5\n",
            "4800/4800 [==============================] - 50s 10ms/step - loss: 0.0048 - acc: 0.6900 - val_loss: 0.0051 - val_acc: 0.6906\n",
            "\n",
            "Epoch 00004: val_loss did not improve from 0.00505\n",
            "Epoch 5/5\n",
            "4800/4800 [==============================] - 50s 10ms/step - loss: 0.0048 - acc: 0.6903 - val_loss: 0.0051 - val_acc: 0.6931\n"
          ],
          "name": "stdout"
        },
        {
          "output_type": "stream",
          "text": [
            "\r 28%|██▊       | 7/25 [39:03<1:40:22, 334.57s/it]"
          ],
          "name": "stderr"
        },
        {
          "output_type": "stream",
          "text": [
            "\n",
            "Epoch 00005: val_loss did not improve from 0.00505\n",
            "Train on 4800 samples, validate on 1199 samples\n",
            "Epoch 1/5\n",
            "4800/4800 [==============================] - 14s 3ms/step - loss: 0.0050 - acc: 0.6623 - val_loss: 0.0051 - val_acc: 0.6532\n",
            "\n",
            "Epoch 00001: val_loss improved from 0.00519 to 0.00512, saving model to reccnn.weights.best.hdf5\n",
            "Epoch 2/5\n",
            "4800/4800 [==============================] - 14s 3ms/step - loss: 0.0049 - acc: 0.6701 - val_loss: 0.0051 - val_acc: 0.6503\n",
            "\n",
            "Epoch 00002: val_loss did not improve from 0.00512\n",
            "Epoch 3/5\n",
            "4800/4800 [==============================] - 14s 3ms/step - loss: 0.0049 - acc: 0.6754 - val_loss: 0.0049 - val_acc: 0.7142\n",
            "\n",
            "Epoch 00003: val_loss improved from 0.00512 to 0.00492, saving model to reccnn.weights.best.hdf5\n",
            "Epoch 4/5\n",
            "4800/4800 [==============================] - 14s 3ms/step - loss: 0.0048 - acc: 0.6888 - val_loss: 0.0051 - val_acc: 0.6598\n",
            "\n",
            "Epoch 00004: val_loss did not improve from 0.00492\n",
            "Epoch 5/5\n",
            "4800/4800 [==============================] - 14s 3ms/step - loss: 0.0048 - acc: 0.6873 - val_loss: 0.0051 - val_acc: 0.7119\n",
            "\n",
            "Epoch 00005: val_loss did not improve from 0.00492\n",
            "Train on 4800 samples, validate on 1199 samples\n",
            "Epoch 1/5\n",
            "4800/4800 [==============================] - 50s 10ms/step - loss: 0.0045 - acc: 0.7564 - val_loss: 0.0047 - val_acc: 0.7641\n",
            "\n",
            "Epoch 00001: val_loss improved from 0.00505 to 0.00466, saving model to comcnn.weights.best.hdf5\n",
            "Epoch 2/5\n",
            "4800/4800 [==============================] - 50s 10ms/step - loss: 0.0044 - acc: 0.7654 - val_loss: 0.0047 - val_acc: 0.7463\n",
            "\n",
            "Epoch 00002: val_loss did not improve from 0.00466\n",
            "Epoch 3/5\n",
            "4800/4800 [==============================] - 49s 10ms/step - loss: 0.0044 - acc: 0.7677 - val_loss: 0.0046 - val_acc: 0.7659\n",
            "\n",
            "Epoch 00003: val_loss improved from 0.00466 to 0.00465, saving model to comcnn.weights.best.hdf5\n",
            "Epoch 4/5\n",
            "4800/4800 [==============================] - 49s 10ms/step - loss: 0.0044 - acc: 0.7675 - val_loss: 0.0047 - val_acc: 0.7543\n",
            "\n",
            "Epoch 00004: val_loss did not improve from 0.00465\n",
            "Epoch 5/5\n",
            "4800/4800 [==============================] - 49s 10ms/step - loss: 0.0044 - acc: 0.7692 - val_loss: 0.0046 - val_acc: 0.7682\n"
          ],
          "name": "stdout"
        },
        {
          "output_type": "stream",
          "text": [
            "\r 32%|███▏      | 8/25 [44:34<1:34:33, 333.76s/it]"
          ],
          "name": "stderr"
        },
        {
          "output_type": "stream",
          "text": [
            "\n",
            "Epoch 00005: val_loss improved from 0.00465 to 0.00463, saving model to comcnn.weights.best.hdf5\n",
            "Train on 4800 samples, validate on 1199 samples\n",
            "Epoch 1/5\n",
            "4800/4800 [==============================] - 14s 3ms/step - loss: 0.0044 - acc: 0.7533 - val_loss: 0.0045 - val_acc: 0.7543\n",
            "\n",
            "Epoch 00001: val_loss improved from 0.00492 to 0.00449, saving model to reccnn.weights.best.hdf5\n",
            "Epoch 2/5\n",
            "4800/4800 [==============================] - 14s 3ms/step - loss: 0.0044 - acc: 0.7572 - val_loss: 0.0046 - val_acc: 0.7582\n",
            "\n",
            "Epoch 00002: val_loss did not improve from 0.00449\n",
            "Epoch 3/5\n",
            "4800/4800 [==============================] - 14s 3ms/step - loss: 0.0043 - acc: 0.7602 - val_loss: 0.0045 - val_acc: 0.7781\n",
            "\n",
            "Epoch 00003: val_loss improved from 0.00449 to 0.00446, saving model to reccnn.weights.best.hdf5\n",
            "Epoch 4/5\n",
            "4800/4800 [==============================] - 14s 3ms/step - loss: 0.0043 - acc: 0.7619 - val_loss: 0.0044 - val_acc: 0.7841\n",
            "\n",
            "Epoch 00004: val_loss improved from 0.00446 to 0.00444, saving model to reccnn.weights.best.hdf5\n",
            "Epoch 5/5\n",
            "4800/4800 [==============================] - 14s 3ms/step - loss: 0.0042 - acc: 0.7697 - val_loss: 0.0045 - val_acc: 0.7841\n",
            "\n",
            "Epoch 00005: val_loss did not improve from 0.00444\n",
            "Train on 4800 samples, validate on 1199 samples\n",
            "Epoch 1/5\n",
            "4800/4800 [==============================] - 49s 10ms/step - loss: 0.0041 - acc: 0.7928 - val_loss: 0.0043 - val_acc: 0.7833\n",
            "\n",
            "Epoch 00001: val_loss improved from 0.00463 to 0.00430, saving model to comcnn.weights.best.hdf5\n",
            "Epoch 2/5\n",
            "4800/4800 [==============================] - 49s 10ms/step - loss: 0.0040 - acc: 0.7961 - val_loss: 0.0043 - val_acc: 0.7927\n",
            "\n",
            "Epoch 00002: val_loss improved from 0.00430 to 0.00428, saving model to comcnn.weights.best.hdf5\n",
            "Epoch 3/5\n",
            "4800/4800 [==============================] - 49s 10ms/step - loss: 0.0040 - acc: 0.7980 - val_loss: 0.0043 - val_acc: 0.7909\n",
            "\n",
            "Epoch 00003: val_loss did not improve from 0.00428\n",
            "Epoch 4/5\n",
            "4800/4800 [==============================] - 49s 10ms/step - loss: 0.0040 - acc: 0.7980 - val_loss: 0.0043 - val_acc: 0.7967\n",
            "\n",
            "Epoch 00004: val_loss improved from 0.00428 to 0.00427, saving model to comcnn.weights.best.hdf5\n",
            "Epoch 5/5\n",
            "4800/4800 [==============================] - 49s 10ms/step - loss: 0.0040 - acc: 0.7985 - val_loss: 0.0043 - val_acc: 0.7886\n"
          ],
          "name": "stdout"
        },
        {
          "output_type": "stream",
          "text": [
            "\r 36%|███▌      | 9/25 [50:05<1:28:44, 332.76s/it]"
          ],
          "name": "stderr"
        },
        {
          "output_type": "stream",
          "text": [
            "\n",
            "Epoch 00005: val_loss did not improve from 0.00427\n",
            "Train on 4800 samples, validate on 1199 samples\n",
            "Epoch 1/5\n",
            "4800/4800 [==============================] - 14s 3ms/step - loss: 0.0041 - acc: 0.7754 - val_loss: 0.0046 - val_acc: 0.7274\n",
            "\n",
            "Epoch 00001: val_loss did not improve from 0.00444\n",
            "Epoch 2/5\n",
            "4800/4800 [==============================] - 14s 3ms/step - loss: 0.0041 - acc: 0.7739 - val_loss: 0.0043 - val_acc: 0.7942\n",
            "\n",
            "Epoch 00002: val_loss improved from 0.00444 to 0.00426, saving model to reccnn.weights.best.hdf5\n",
            "Epoch 3/5\n",
            "4800/4800 [==============================] - 14s 3ms/step - loss: 0.0041 - acc: 0.7801 - val_loss: 0.0047 - val_acc: 0.7341\n",
            "\n",
            "Epoch 00003: val_loss did not improve from 0.00426\n",
            "Epoch 4/5\n",
            "4800/4800 [==============================] - 14s 3ms/step - loss: 0.0041 - acc: 0.7748 - val_loss: 0.0044 - val_acc: 0.7803\n",
            "\n",
            "Epoch 00004: val_loss did not improve from 0.00426\n",
            "Epoch 5/5\n",
            "4800/4800 [==============================] - 14s 3ms/step - loss: 0.0040 - acc: 0.7829 - val_loss: 0.0042 - val_acc: 0.8004\n",
            "\n",
            "Epoch 00005: val_loss improved from 0.00426 to 0.00416, saving model to reccnn.weights.best.hdf5\n",
            "Train on 4800 samples, validate on 1199 samples\n",
            "Epoch 1/5\n",
            "4800/4800 [==============================] - 49s 10ms/step - loss: 0.0038 - acc: 0.8040 - val_loss: 0.0040 - val_acc: 0.7998\n",
            "\n",
            "Epoch 00001: val_loss improved from 0.00427 to 0.00404, saving model to comcnn.weights.best.hdf5\n",
            "Epoch 2/5\n",
            "4800/4800 [==============================] - 49s 10ms/step - loss: 0.0038 - acc: 0.8069 - val_loss: 0.0040 - val_acc: 0.8036\n",
            "\n",
            "Epoch 00002: val_loss did not improve from 0.00404\n",
            "Epoch 3/5\n",
            "4800/4800 [==============================] - 49s 10ms/step - loss: 0.0038 - acc: 0.8081 - val_loss: 0.0040 - val_acc: 0.8194\n",
            "\n",
            "Epoch 00003: val_loss improved from 0.00404 to 0.00403, saving model to comcnn.weights.best.hdf5\n",
            "Epoch 4/5\n",
            "4800/4800 [==============================] - 49s 10ms/step - loss: 0.0038 - acc: 0.8069 - val_loss: 0.0040 - val_acc: 0.8148\n",
            "\n",
            "Epoch 00004: val_loss did not improve from 0.00403\n",
            "Epoch 5/5\n",
            "4800/4800 [==============================] - 49s 10ms/step - loss: 0.0038 - acc: 0.8053 - val_loss: 0.0040 - val_acc: 0.7949\n"
          ],
          "name": "stdout"
        },
        {
          "output_type": "stream",
          "text": [
            "\r 40%|████      | 10/25 [55:35<1:22:57, 331.85s/it]"
          ],
          "name": "stderr"
        },
        {
          "output_type": "stream",
          "text": [
            "\n",
            "Epoch 00005: val_loss did not improve from 0.00403\n",
            "Train on 4800 samples, validate on 1199 samples\n",
            "Epoch 1/5\n",
            "4800/4800 [==============================] - 14s 3ms/step - loss: 0.0039 - acc: 0.7866 - val_loss: 0.0040 - val_acc: 0.8046\n",
            "\n",
            "Epoch 00001: val_loss improved from 0.00416 to 0.00401, saving model to reccnn.weights.best.hdf5\n",
            "Epoch 2/5\n",
            "4800/4800 [==============================] - 14s 3ms/step - loss: 0.0039 - acc: 0.7877 - val_loss: 0.0040 - val_acc: 0.8053\n",
            "\n",
            "Epoch 00002: val_loss improved from 0.00401 to 0.00400, saving model to reccnn.weights.best.hdf5\n",
            "Epoch 3/5\n",
            "4800/4800 [==============================] - 14s 3ms/step - loss: 0.0039 - acc: 0.7918 - val_loss: 0.0041 - val_acc: 0.8095\n",
            "\n",
            "Epoch 00003: val_loss did not improve from 0.00400\n",
            "Epoch 4/5\n",
            "4800/4800 [==============================] - 14s 3ms/step - loss: 0.0039 - acc: 0.7878 - val_loss: 0.0040 - val_acc: 0.8193\n",
            "\n",
            "Epoch 00004: val_loss improved from 0.00400 to 0.00396, saving model to reccnn.weights.best.hdf5\n",
            "Epoch 5/5\n",
            "4800/4800 [==============================] - 14s 3ms/step - loss: 0.0039 - acc: 0.7918 - val_loss: 0.0041 - val_acc: 0.8225\n",
            "\n",
            "Epoch 00005: val_loss did not improve from 0.00396\n",
            "Train on 4800 samples, validate on 1199 samples\n",
            "Epoch 1/5\n",
            "4800/4800 [==============================] - 49s 10ms/step - loss: 0.0037 - acc: 0.8151 - val_loss: 0.0040 - val_acc: 0.8137\n",
            "\n",
            "Epoch 00001: val_loss improved from 0.00403 to 0.00395, saving model to comcnn.weights.best.hdf5\n",
            "Epoch 2/5\n",
            "4800/4800 [==============================] - 50s 10ms/step - loss: 0.0037 - acc: 0.8170 - val_loss: 0.0040 - val_acc: 0.8215\n",
            "\n",
            "Epoch 00002: val_loss did not improve from 0.00395\n",
            "Epoch 3/5\n",
            "4800/4800 [==============================] - 49s 10ms/step - loss: 0.0037 - acc: 0.8173 - val_loss: 0.0040 - val_acc: 0.8059\n",
            "\n",
            "Epoch 00003: val_loss did not improve from 0.00395\n",
            "Epoch 4/5\n",
            "4800/4800 [==============================] - 50s 10ms/step - loss: 0.0037 - acc: 0.8174 - val_loss: 0.0039 - val_acc: 0.8198\n",
            "\n",
            "Epoch 00004: val_loss improved from 0.00395 to 0.00394, saving model to comcnn.weights.best.hdf5\n",
            "Epoch 5/5\n",
            "4800/4800 [==============================] - 49s 10ms/step - loss: 0.0037 - acc: 0.8167 - val_loss: 0.0039 - val_acc: 0.8105\n"
          ],
          "name": "stdout"
        },
        {
          "output_type": "stream",
          "text": [
            "\r 44%|████▍     | 11/25 [1:01:06<1:17:24, 331.73s/it]"
          ],
          "name": "stderr"
        },
        {
          "output_type": "stream",
          "text": [
            "\n",
            "Epoch 00005: val_loss did not improve from 0.00394\n",
            "Train on 4800 samples, validate on 1199 samples\n",
            "Epoch 1/5\n",
            "4800/4800 [==============================] - 14s 3ms/step - loss: 0.0037 - acc: 0.7973 - val_loss: 0.0041 - val_acc: 0.7615\n",
            "\n",
            "Epoch 00001: val_loss did not improve from 0.00396\n",
            "Epoch 2/5\n",
            "4800/4800 [==============================] - 14s 3ms/step - loss: 0.0038 - acc: 0.7919 - val_loss: 0.0043 - val_acc: 0.7759\n",
            "\n",
            "Epoch 00002: val_loss did not improve from 0.00396\n",
            "Epoch 3/5\n",
            "4800/4800 [==============================] - 14s 3ms/step - loss: 0.0038 - acc: 0.7904 - val_loss: 0.0039 - val_acc: 0.7707\n",
            "\n",
            "Epoch 00003: val_loss improved from 0.00396 to 0.00392, saving model to reccnn.weights.best.hdf5\n",
            "Epoch 4/5\n",
            "4800/4800 [==============================] - 14s 3ms/step - loss: 0.0037 - acc: 0.7968 - val_loss: 0.0040 - val_acc: 0.8221\n",
            "\n",
            "Epoch 00004: val_loss did not improve from 0.00392\n",
            "Epoch 5/5\n",
            "4800/4800 [==============================] - 14s 3ms/step - loss: 0.0037 - acc: 0.7968 - val_loss: 0.0039 - val_acc: 0.7847\n",
            "\n",
            "Epoch 00005: val_loss improved from 0.00392 to 0.00392, saving model to reccnn.weights.best.hdf5\n",
            "Train on 4800 samples, validate on 1199 samples\n",
            "Epoch 1/5\n",
            "4800/4800 [==============================] - 49s 10ms/step - loss: 0.0036 - acc: 0.8147 - val_loss: 0.0038 - val_acc: 0.8051\n",
            "\n",
            "Epoch 00001: val_loss improved from 0.00394 to 0.00381, saving model to comcnn.weights.best.hdf5\n",
            "Epoch 2/5\n",
            "4800/4800 [==============================] - 49s 10ms/step - loss: 0.0036 - acc: 0.8148 - val_loss: 0.0038 - val_acc: 0.8166\n",
            "\n",
            "Epoch 00002: val_loss improved from 0.00381 to 0.00381, saving model to comcnn.weights.best.hdf5\n",
            "Epoch 3/5\n",
            "4800/4800 [==============================] - 49s 10ms/step - loss: 0.0036 - acc: 0.8165 - val_loss: 0.0038 - val_acc: 0.8035\n",
            "\n",
            "Epoch 00003: val_loss did not improve from 0.00381\n",
            "Epoch 4/5\n",
            "4800/4800 [==============================] - 49s 10ms/step - loss: 0.0036 - acc: 0.8153 - val_loss: 0.0038 - val_acc: 0.8120\n",
            "\n",
            "Epoch 00004: val_loss improved from 0.00381 to 0.00380, saving model to comcnn.weights.best.hdf5\n",
            "Epoch 5/5\n",
            "4800/4800 [==============================] - 49s 10ms/step - loss: 0.0036 - acc: 0.8177 - val_loss: 0.0039 - val_acc: 0.8297\n"
          ],
          "name": "stdout"
        },
        {
          "output_type": "stream",
          "text": [
            "\r 48%|████▊     | 12/25 [1:06:37<1:11:51, 331.65s/it]"
          ],
          "name": "stderr"
        },
        {
          "output_type": "stream",
          "text": [
            "\n",
            "Epoch 00005: val_loss did not improve from 0.00380\n",
            "Train on 4800 samples, validate on 1199 samples\n",
            "Epoch 1/5\n",
            "4800/4800 [==============================] - 14s 3ms/step - loss: 0.0036 - acc: 0.8030 - val_loss: 0.0038 - val_acc: 0.7849\n",
            "\n",
            "Epoch 00001: val_loss improved from 0.00392 to 0.00384, saving model to reccnn.weights.best.hdf5\n",
            "Epoch 2/5\n",
            "4800/4800 [==============================] - 14s 3ms/step - loss: 0.0036 - acc: 0.8017 - val_loss: 0.0038 - val_acc: 0.8132\n",
            "\n",
            "Epoch 00002: val_loss improved from 0.00384 to 0.00383, saving model to reccnn.weights.best.hdf5\n",
            "Epoch 3/5\n",
            "4800/4800 [==============================] - 14s 3ms/step - loss: 0.0037 - acc: 0.7954 - val_loss: 0.0040 - val_acc: 0.7702\n",
            "\n",
            "Epoch 00003: val_loss did not improve from 0.00383\n",
            "Epoch 4/5\n",
            "4800/4800 [==============================] - 14s 3ms/step - loss: 0.0036 - acc: 0.8023 - val_loss: 0.0040 - val_acc: 0.7571\n",
            "\n",
            "Epoch 00004: val_loss did not improve from 0.00383\n",
            "Epoch 5/5\n",
            "4800/4800 [==============================] - 14s 3ms/step - loss: 0.0036 - acc: 0.7987 - val_loss: 0.0038 - val_acc: 0.8257\n",
            "\n",
            "Epoch 00005: val_loss improved from 0.00383 to 0.00378, saving model to reccnn.weights.best.hdf5\n",
            "Train on 4800 samples, validate on 1199 samples\n",
            "Epoch 1/5\n",
            "4800/4800 [==============================] - 49s 10ms/step - loss: 0.0035 - acc: 0.8211 - val_loss: 0.0037 - val_acc: 0.8264\n",
            "\n",
            "Epoch 00001: val_loss improved from 0.00380 to 0.00372, saving model to comcnn.weights.best.hdf5\n",
            "Epoch 2/5\n",
            "4800/4800 [==============================] - 49s 10ms/step - loss: 0.0035 - acc: 0.8209 - val_loss: 0.0037 - val_acc: 0.8143\n",
            "\n",
            "Epoch 00002: val_loss did not improve from 0.00372\n",
            "Epoch 3/5\n",
            "4800/4800 [==============================] - 49s 10ms/step - loss: 0.0035 - acc: 0.8209 - val_loss: 0.0037 - val_acc: 0.8266\n",
            "\n",
            "Epoch 00003: val_loss did not improve from 0.00372\n",
            "Epoch 4/5\n",
            "4800/4800 [==============================] - 49s 10ms/step - loss: 0.0035 - acc: 0.8210 - val_loss: 0.0037 - val_acc: 0.8172\n",
            "\n",
            "Epoch 00004: val_loss did not improve from 0.00372\n",
            "Epoch 5/5\n",
            "4800/4800 [==============================] - 49s 10ms/step - loss: 0.0035 - acc: 0.8237 - val_loss: 0.0037 - val_acc: 0.8221\n"
          ],
          "name": "stdout"
        },
        {
          "output_type": "stream",
          "text": [
            "\r 52%|█████▏    | 13/25 [1:12:09<1:06:18, 331.57s/it]"
          ],
          "name": "stderr"
        },
        {
          "output_type": "stream",
          "text": [
            "\n",
            "Epoch 00005: val_loss improved from 0.00372 to 0.00372, saving model to comcnn.weights.best.hdf5\n",
            "Train on 4800 samples, validate on 1199 samples\n",
            "Epoch 1/5\n",
            "4800/4800 [==============================] - 14s 3ms/step - loss: 0.0036 - acc: 0.8032 - val_loss: 0.0042 - val_acc: 0.8105\n",
            "\n",
            "Epoch 00001: val_loss did not improve from 0.00378\n",
            "Epoch 2/5\n",
            "4800/4800 [==============================] - 14s 3ms/step - loss: 0.0036 - acc: 0.8015 - val_loss: 0.0038 - val_acc: 0.7954\n",
            "\n",
            "Epoch 00002: val_loss did not improve from 0.00378\n",
            "Epoch 3/5\n",
            "4800/4800 [==============================] - 14s 3ms/step - loss: 0.0036 - acc: 0.8037 - val_loss: 0.0038 - val_acc: 0.8019\n",
            "\n",
            "Epoch 00003: val_loss did not improve from 0.00378\n",
            "Epoch 4/5\n",
            "4800/4800 [==============================] - 14s 3ms/step - loss: 0.0035 - acc: 0.8049 - val_loss: 0.0039 - val_acc: 0.7565\n",
            "\n",
            "Epoch 00004: val_loss did not improve from 0.00378\n",
            "Epoch 5/5\n",
            "4800/4800 [==============================] - 14s 3ms/step - loss: 0.0036 - acc: 0.8015 - val_loss: 0.0037 - val_acc: 0.8252\n",
            "\n",
            "Epoch 00005: val_loss improved from 0.00378 to 0.00368, saving model to reccnn.weights.best.hdf5\n",
            "Train on 4800 samples, validate on 1199 samples\n",
            "Epoch 1/5\n",
            "4800/4800 [==============================] - 49s 10ms/step - loss: 0.0034 - acc: 0.8236 - val_loss: 0.0037 - val_acc: 0.8184\n",
            "\n",
            "Epoch 00001: val_loss improved from 0.00372 to 0.00369, saving model to comcnn.weights.best.hdf5\n",
            "Epoch 2/5\n",
            "4800/4800 [==============================] - 49s 10ms/step - loss: 0.0034 - acc: 0.8247 - val_loss: 0.0037 - val_acc: 0.8046\n",
            "\n",
            "Epoch 00002: val_loss did not improve from 0.00369\n",
            "Epoch 3/5\n",
            "4800/4800 [==============================] - 50s 10ms/step - loss: 0.0034 - acc: 0.8251 - val_loss: 0.0037 - val_acc: 0.8297\n",
            "\n",
            "Epoch 00003: val_loss improved from 0.00369 to 0.00367, saving model to comcnn.weights.best.hdf5\n",
            "Epoch 4/5\n",
            "4800/4800 [==============================] - 49s 10ms/step - loss: 0.0034 - acc: 0.8245 - val_loss: 0.0038 - val_acc: 0.7852\n",
            "\n",
            "Epoch 00004: val_loss did not improve from 0.00367\n",
            "Epoch 5/5\n",
            "4800/4800 [==============================] - 50s 10ms/step - loss: 0.0034 - acc: 0.8254 - val_loss: 0.0037 - val_acc: 0.8188\n"
          ],
          "name": "stdout"
        },
        {
          "output_type": "stream",
          "text": [
            "\r 56%|█████▌    | 14/25 [1:17:40<1:00:46, 331.47s/it]"
          ],
          "name": "stderr"
        },
        {
          "output_type": "stream",
          "text": [
            "\n",
            "Epoch 00005: val_loss did not improve from 0.00367\n",
            "Train on 4800 samples, validate on 1199 samples\n",
            "Epoch 1/5\n",
            "4800/4800 [==============================] - 14s 3ms/step - loss: 0.0036 - acc: 0.7994 - val_loss: 0.0039 - val_acc: 0.7825\n",
            "\n",
            "Epoch 00001: val_loss did not improve from 0.00368\n",
            "Epoch 2/5\n",
            "4800/4800 [==============================] - 14s 3ms/step - loss: 0.0035 - acc: 0.8035 - val_loss: 0.0037 - val_acc: 0.8260\n",
            "\n",
            "Epoch 00002: val_loss did not improve from 0.00368\n",
            "Epoch 3/5\n",
            "4800/4800 [==============================] - 14s 3ms/step - loss: 0.0036 - acc: 0.7996 - val_loss: 0.0039 - val_acc: 0.7590\n",
            "\n",
            "Epoch 00003: val_loss did not improve from 0.00368\n",
            "Epoch 4/5\n",
            "4800/4800 [==============================] - 14s 3ms/step - loss: 0.0035 - acc: 0.7977 - val_loss: 0.0039 - val_acc: 0.8176\n",
            "\n",
            "Epoch 00004: val_loss did not improve from 0.00368\n",
            "Epoch 5/5\n",
            "4800/4800 [==============================] - 14s 3ms/step - loss: 0.0035 - acc: 0.7998 - val_loss: 0.0037 - val_acc: 0.8052\n",
            "\n",
            "Epoch 00005: val_loss did not improve from 0.00368\n",
            "Train on 4800 samples, validate on 1199 samples\n",
            "Epoch 1/5\n",
            "4800/4800 [==============================] - 49s 10ms/step - loss: 0.0034 - acc: 0.8133 - val_loss: 0.0036 - val_acc: 0.8204\n",
            "\n",
            "Epoch 00001: val_loss improved from 0.00367 to 0.00359, saving model to comcnn.weights.best.hdf5\n",
            "Epoch 2/5\n",
            "4800/4800 [==============================] - 49s 10ms/step - loss: 0.0034 - acc: 0.8131 - val_loss: 0.0036 - val_acc: 0.8056\n",
            "\n",
            "Epoch 00002: val_loss did not improve from 0.00359\n",
            "Epoch 3/5\n",
            "4800/4800 [==============================] - 50s 10ms/step - loss: 0.0033 - acc: 0.8140 - val_loss: 0.0036 - val_acc: 0.8031\n",
            "\n",
            "Epoch 00003: val_loss did not improve from 0.00359\n",
            "Epoch 4/5\n",
            "2504/4800 [==============>...............] - ETA: 21s - loss: 0.0034 - acc: 0.8124Buffered data was truncated after reaching the output size limit."
          ],
          "name": "stdout"
        }
      ]
    },
    {
      "metadata": {
        "id": "5n9FwjHnvGmq",
        "colab_type": "code",
        "colab": {}
      },
      "cell_type": "code",
      "source": [
        ""
      ],
      "execution_count": 0,
      "outputs": []
    }
  ]
}