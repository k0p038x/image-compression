{
 "cells": [
  {
   "cell_type": "code",
   "execution_count": 4,
   "metadata": {},
   "outputs": [],
   "source": [
    "import numpy as np\n",
    "import cv2\n",
    "from keras.layers import Conv2D, Input, Layer\n",
    "from keras.models import Model\n",
    "from tqdm import tqdm_notebook as tqdm\n",
    "import tensorflow as tf\n",
    "import import_ipynb\n",
    "import keras"
   ]
  },
  {
   "cell_type": "code",
   "execution_count": 5,
   "metadata": {},
   "outputs": [],
   "source": [
    "class ComCNN:\n",
    "    \n",
    "    \n",
    "    def __init__(self, c):\n",
    "        self.channels = c\n",
    "    \n",
    "    def compact(self, first):\n",
    "        conv1 = Conv2D(filters=64, kernel_size=(3,3), activation='relu', padding='same', kernel_initializer='random_uniform', bias_initializer='zeros')(first)\n",
    "        conv2 = Conv2D(filters=32, strides = 2, kernel_size=(3,3), activation='relu', padding='same', kernel_initializer='random_uniform')(conv1)\n",
    "        last = Conv2D(self.channels, strides = 2, kernel_size=(3,3), activation='sigmoid', padding = 'same', kernel_initializer='random_uniform')(conv2)\n",
    "        return last\n",
    "    \n",
    "        "
   ]
  },
  {
   "cell_type": "code",
   "execution_count": 6,
   "metadata": {},
   "outputs": [
    {
     "name": "stdout",
     "output_type": "stream",
     "text": [
      "_________________________________________________________________\n",
      "Layer (type)                 Output Shape              Param #   \n",
      "=================================================================\n",
      "input_1 (InputLayer)         (None, 256, 256, 3)       0         \n",
      "_________________________________________________________________\n",
      "conv2d_1 (Conv2D)            (None, 256, 256, 64)      1792      \n",
      "_________________________________________________________________\n",
      "conv2d_2 (Conv2D)            (None, 128, 128, 32)      18464     \n",
      "_________________________________________________________________\n",
      "conv2d_3 (Conv2D)            (None, 64, 64, 3)         867       \n",
      "=================================================================\n",
      "Total params: 21,123\n",
      "Trainable params: 21,123\n",
      "Non-trainable params: 0\n",
      "_________________________________________________________________\n"
     ]
    }
   ],
   "source": [
    "# inp = Input(shape=(256, 256, 3))\n",
    "\n",
    "# com_cnn = ComCNN(c=3)\n",
    "# model_comcnn = Model(inp, com_cnn.compact(inp))\n",
    "# model_comcnn.compile(optimizer='adam', loss='mean_squared_error')\n",
    "# model_comcnn.summary()"
   ]
  }
 ],
 "metadata": {
  "kernelspec": {
   "display_name": "Python 3",
   "language": "python",
   "name": "python3"
  },
  "language_info": {
   "codemirror_mode": {
    "name": "ipython",
    "version": 3
   },
   "file_extension": ".py",
   "mimetype": "text/x-python",
   "name": "python",
   "nbconvert_exporter": "python",
   "pygments_lexer": "ipython3",
   "version": "3.6.5"
  },
  "varInspector": {
   "cols": {
    "lenName": 16,
    "lenType": 16,
    "lenVar": 40
   },
   "kernels_config": {
    "python": {
     "delete_cmd_postfix": "",
     "delete_cmd_prefix": "del ",
     "library": "var_list.py",
     "varRefreshCmd": "print(var_dic_list())"
    },
    "r": {
     "delete_cmd_postfix": ") ",
     "delete_cmd_prefix": "rm(",
     "library": "var_list.r",
     "varRefreshCmd": "cat(var_dic_list()) "
    }
   },
   "types_to_exclude": [
    "module",
    "function",
    "builtin_function_or_method",
    "instance",
    "_Feature"
   ],
   "window_display": false
  }
 },
 "nbformat": 4,
 "nbformat_minor": 2
}
