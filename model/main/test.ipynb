{
 "cells": [
  {
   "cell_type": "code",
   "execution_count": null,
   "metadata": {},
   "outputs": [],
   "source": [
    "import os\n",
    "import numpy as np\n",
    "import import_ipynb\n",
    "from tqdm import tqdm as tqdm\n",
    "import edsr\n",
    "\n",
    "import matplotlib.image as mpimg\n",
    "from PIL import Image\n",
    "import cv2\n",
    "import tensorflow as tf\n",
    "from skimage.measure import compare_ssim as ssim\n",
    "from skimage.measure import compare_psnr as psnr"
   ]
  },
  {
   "cell_type": "code",
   "execution_count": null,
   "metadata": {},
   "outputs": [],
   "source": [
    "from keras.layers import Conv2D\n",
    "\n",
    "def compact(x_in):\n",
    "    conv1 = Conv2D(filters=64, kernel_size=(3,3), activation='relu', padding='same')(x_in)\n",
    "    conv2 = Conv2D(filters=32, kernel_size=(3,3), activation='relu', padding='same')(conv1)\n",
    "    last = Conv2D(1, strides = 2, kernel_size=(3,3), activation='sigmoid', padding = 'same')(conv2)\n",
    "    return last"
   ]
  },
  {
   "cell_type": "code",
   "execution_count": null,
   "metadata": {},
   "outputs": [],
   "source": [
    "def compress_this(x_input, quality_factor):\n",
    "    \n",
    "    num = x_input.shape[0]\n",
    "    ans = []\n",
    "    for i in range(num):\n",
    "        x_single = x_input[i,:,:,0]\n",
    "        img = Image.fromarray(np.uint8(x_single*255))\n",
    "        img.save(os.getcwd()+'/com4.JPEG',\"JPEG\", quality = quality_factor)\n",
    "        out_single = mpimg.imread(os.getcwd()+'/com4.JPEG')\n",
    "        ans.append(out_single)\n",
    "    ans = np.array(ans)\n",
    "    ans = np.reshape(ans, (ans.shape[0], ans.shape[1], ans.shape[2], 1))\n",
    "    return ans"
   ]
  },
  {
   "cell_type": "code",
   "execution_count": null,
   "metadata": {},
   "outputs": [],
   "source": [
    "def ycbcr2rgb(img):\n",
    "    img = cv2.cvtColor(img, cv2.COLOR_YCR_CB2RGB)\n",
    "    return img"
   ]
  },
  {
   "cell_type": "code",
   "execution_count": null,
   "metadata": {},
   "outputs": [],
   "source": [
    "def load_images(dset_location):\n",
    "    loc = dset_location\n",
    "    images_location = []\n",
    "    X = []\n",
    "\n",
    "    print(\"Extracting image locations..\")\n",
    "    for i in tqdm(os.listdir(loc)):\n",
    "        images_location.append(loc+'/'+i)\n",
    "\n",
    "    print(\"Extracting images..\")\n",
    "    for im_loc in tqdm(images_location):\n",
    "        img = cv2.imread(im_loc)\n",
    "        x, y = img.shape[0], img.shape[1]\n",
    "        if x%2!=0:\n",
    "            x-=1\n",
    "        if y%2!=0:\n",
    "            y-=1\n",
    "        img = cv2.resize(img, (x, y))\n",
    "        img = cv2.cvtColor(img, cv2.COLOR_BGR2YCR_CB)\n",
    "        X.append(img)\n",
    "    X = np.array(X)\n",
    "    return X"
   ]
  },
  {
   "cell_type": "code",
   "execution_count": null,
   "metadata": {},
   "outputs": [],
   "source": [
    "from keras.layers import Input\n",
    "from keras.callbacks import ModelCheckpoint\n",
    "from keras.models import Model\n",
    "from keras.optimizers import Adam\n",
    "\n",
    "\n",
    "inp = Input(shape=(None, None, 1))\n",
    "model_edsr = edsr.edsr(x_in=inp, scale=2)\n",
    "adam = Adam(lr=0.0001, beta_1=0.9, beta_2=0.999, epsilon=0.00000001, decay=0.0, amsgrad=False)\n",
    "model_edsr.compile(optimizer=adam, loss='mse')\n",
    "checkpointr = ModelCheckpoint(filepath='edsr.weights.best.hdf5', save_best_only=True, verbose=1)\n",
    "model_edsr.summary()\n",
    "\n",
    "\n",
    "inp = Input(shape=(None, None, 1))\n",
    "model_comcnn = Model(inp, model_edsr(compact(inp)))\n",
    "model_comcnn.layers[4].trainable = False\n",
    "model_comcnn.compile(optimizer='adam', loss='mse', metrics=['accuracy'])\n",
    "checkpointc = ModelCheckpoint(filepath='comcnn.weights.best.hdf5', save_best_only=True, verbose=1)\n",
    "model_comcnn.summary()\n",
    "\n",
    "model_edsr.load_weights('edsr.weights.arb.best.hdf5')\n",
    "model_comcnn.load_weights('comcnn.weights.arb.best.hdf5')"
   ]
  },
  {
   "cell_type": "code",
   "execution_count": null,
   "metadata": {},
   "outputs": [],
   "source": [
    "\n",
    "def run():\n",
    "    \n",
    "    in_loc = 'test_images'\n",
    "    out_loc = 'output_images'\n",
    "    val_psnr = []\n",
    "    val_ssim = []\n",
    "    \n",
    "    for im_loc in (os.listdir(in_loc)):\n",
    "        adr = in_loc + '/' + im_loc\n",
    "\n",
    "        X = []\n",
    "        img = cv2.imread(adr)\n",
    "        img = cv2.cvtColor(img, cv2.COLOR_BGR2YCR_CB)\n",
    "        m, n = img.shape[0], img.shape[1]\n",
    "\n",
    "        flag = 0\n",
    "        if m%2!=0:\n",
    "            flag = 1\n",
    "            m = m - 1\n",
    "\n",
    "        if n%2!=0:\n",
    "            flag = 1\n",
    "            n = n - 1\n",
    "\n",
    "        img = cv2.resize(img, (m, n))\n",
    "\n",
    "        X.append(img)\n",
    "        X = np.array(X)\n",
    "        X = X.astype('float32')\n",
    "        X = X / 255\n",
    "\n",
    "        mpimg.imsave(out_loc+'/'+im_loc+'-in.png', X[0,:,:,0], cmap = 'gray')\n",
    "        upto_comcnn = Model(model_comcnn.input, model_comcnn.layers[3].output)\n",
    "        Ycom = upto_comcnn.predict(X[:,:,:,:1])\n",
    "\n",
    "        Xcompress = compress_this(Ycom, 10)\n",
    "        Xcompress = Xcompress.astype('float32')\n",
    "        Xcompress = Xcompress / 255\n",
    "\n",
    "        Y = model_edsr.predict(Xcompress)\n",
    "        Y[Y>1] = 1\n",
    "        mpimg.imsave(out_loc+'/'+im_loc+'-out.png', Y[0,:,:,0], cmap = 'gray')\n",
    "        val_psnr.append(psnr(Y[0,:,:,0], X[0,:,:,0]))\n",
    "        val_ssim.append(ssim(Y[0,:,:,0], X[0,:,:,0]))\n",
    "        print(im_loc + \" : \", psnr(Y[0,:,:,0], X[0,:,:,0]))\n",
    "        print(im_loc + \" : \", ssim(Y[0,:,:,0], X[0,:,:,0]))\n",
    "\n",
    "    print(\"Average PSNR : \", np.mean(val_psnr))\n",
    "    print(\"Average SSIM : \", np.mean(val_ssim))"
   ]
  },
  {
   "cell_type": "code",
   "execution_count": null,
   "metadata": {},
   "outputs": [],
   "source": [
    "# def M_SSIM(y_true , y_pred):\n",
    "#     ans = tf.image.ssim_multiscale(y_true,y_pred,max_val = 1.0)\n",
    "#     return ans\n",
    "# input_img = tf.placeholder(tf.float32, [1,512,768,1])\n",
    "# input_img1 = tf.placeholder(tf.float32, [1,512,768,1])\n",
    "# edges_ten = M_SSIM(input_img,input_img1)\n",
    "# with tf.Session() as sess: msssim = sess.run(edges_ten, feed_dict={input_img:X[0,:,:,0].reshape(1,512,768,1),input_img1:Y[0,:,:,0].reshape(1,512,768,1)})\n",
    "# print(msssim)"
   ]
  }
 ],
 "metadata": {
  "kernelspec": {
   "display_name": "Python 3",
   "language": "python",
   "name": "python3"
  },
  "language_info": {
   "codemirror_mode": {
    "name": "ipython",
    "version": 3
   },
   "file_extension": ".py",
   "mimetype": "text/x-python",
   "name": "python",
   "nbconvert_exporter": "python",
   "pygments_lexer": "ipython3",
   "version": "3.6.5"
  },
  "varInspector": {
   "cols": {
    "lenName": 16,
    "lenType": 16,
    "lenVar": 40
   },
   "kernels_config": {
    "python": {
     "delete_cmd_postfix": "",
     "delete_cmd_prefix": "del ",
     "library": "var_list.py",
     "varRefreshCmd": "print(var_dic_list())"
    },
    "r": {
     "delete_cmd_postfix": ") ",
     "delete_cmd_prefix": "rm(",
     "library": "var_list.r",
     "varRefreshCmd": "cat(var_dic_list()) "
    }
   },
   "types_to_exclude": [
    "module",
    "function",
    "builtin_function_or_method",
    "instance",
    "_Feature"
   ],
   "window_display": false
  }
 },
 "nbformat": 4,
 "nbformat_minor": 2
}
