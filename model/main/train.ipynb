{
 "cells": [
  {
   "cell_type": "code",
   "execution_count": 1,
   "metadata": {
    "colab": {
     "base_uri": "https://localhost:8080/",
     "height": 208
    },
    "colab_type": "code",
    "id": "47jNyI5yvrxu",
    "outputId": "ae07ef66-5a7f-4f03-a1c1-130e6841b104"
   },
   "outputs": [
    {
     "name": "stdout",
     "output_type": "stream",
     "text": [
      "importing Jupyter notebook from edsr.ipynb\n"
     ]
    },
    {
     "name": "stderr",
     "output_type": "stream",
     "text": [
      "/home/chandu/anaconda3/lib/python3.6/site-packages/h5py/__init__.py:36: FutureWarning: Conversion of the second argument of issubdtype from `float` to `np.floating` is deprecated. In future, it will be treated as `np.float64 == np.dtype(float).type`.\n",
      "  from ._conv import register_converters as _register_converters\n",
      "Using TensorFlow backend.\n"
     ]
    }
   ],
   "source": [
    "import os\n",
    "import numpy as np\n",
    "import import_ipynb\n",
    "from tqdm import tqdm as tqdm\n",
    "import edsr\n",
    "\n",
    "import matplotlib.image as mpimg\n",
    "from PIL import Image\n",
    "import cv2\n",
    "\n",
    "from skimage.measure import compare_ssim as ssim\n",
    "import video_to_images"
   ]
  },
  {
   "cell_type": "code",
   "execution_count": 2,
   "metadata": {},
   "outputs": [],
   "source": [
    "from keras.layers import Conv2D\n",
    "\n",
    "def compact(x_in):\n",
    "    conv1 = Conv2D(filters=64, kernel_size=(3,3), activation='relu', padding='same')(x_in)\n",
    "    conv2 = Conv2D(filters=32, kernel_size=(3,3), activation='relu', padding='same')(conv1)\n",
    "    last = Conv2D(1, strides = 2, kernel_size=(3,3), activation='sigmoid', padding = 'same')(conv2)\n",
    "    return last"
   ]
  },
  {
   "cell_type": "code",
   "execution_count": 3,
   "metadata": {
    "colab": {},
    "colab_type": "code",
    "id": "QBF2aDd3vrx6"
   },
   "outputs": [],
   "source": [
    "def compressThis(x_input, quality_factor):\n",
    "    \n",
    "    num = x_input.shape[0]\n",
    "    ans = []\n",
    "    for i in range(num):\n",
    "        x_single = x_input[i,:,:,0]\n",
    "        img = Image.fromarray(np.uint8(x_single*255))\n",
    "        img.save(os.getcwd()+'/compress.JPEG',\"JPEG\", quality = quality_factor)\n",
    "        out_single = mpimg.imread(os.getcwd()+'/compress.JPEG')\n",
    "        ans.append(out_single)\n",
    "    ans = np.array(ans)\n",
    "    ans = np.reshape(ans, (ans.shape[0], ans.shape[1], ans.shape[2], 1))\n",
    "    return ans"
   ]
  },
  {
   "cell_type": "code",
   "execution_count": 4,
   "metadata": {
    "colab": {},
    "colab_type": "code",
    "id": "3axiTXQGvryD"
   },
   "outputs": [],
   "source": [
    "def load_images(dset_location):\n",
    "    loc = dset_location\n",
    "    images_location = []\n",
    "    X = []\n",
    "\n",
    "    print(\"Extracting image locations..\")\n",
    "    for i in tqdm(os.listdir(loc)):\n",
    "        images_location.append(loc+'/'+i)\n",
    "\n",
    "    print(\"Extracting images..\")\n",
    "    images_location = images_location[:images_count]\n",
    "    for im_loc in tqdm(images_location):\n",
    "        img = cv2.imread(im_loc)\n",
    "        img = cv2.cvtColor(img, cv2.COLOR_BGR2GRAY)\n",
    "        X.append(img)\n",
    "    X = np.array(X)\n",
    "    X = np.reshape(X, (X.shape[0], X.shape[1], X.shape[2], 1))\n",
    "    return X"
   ]
  },
  {
   "cell_type": "code",
   "execution_count": 5,
   "metadata": {
    "colab": {},
    "colab_type": "code",
    "id": "J22TXHq7vryG"
   },
   "outputs": [],
   "source": [
    "def split_dataset(X, split_ratio):\n",
    "    split = int(split_ratio * X.shape[0])\n",
    "    x_train = X[:split,:,:,:]\n",
    "    x_valid = X[split:,:,:,:]\n",
    "    return x_train, x_valid"
   ]
  },
  {
   "cell_type": "code",
   "execution_count": 6,
   "metadata": {
    "colab": {},
    "colab_type": "code",
    "id": "d8gC-hHKvryJ"
   },
   "outputs": [],
   "source": [
    "from keras.layers import Input\n",
    "from keras.callbacks import ModelCheckpoint\n",
    "import tensorflow as tf\n",
    "from keras.models import Model\n",
    "from keras.optimizers import Adam\n",
    "\n",
    "def run():\n",
    "    \n",
    "    \n",
    "    X = load_images(dset_location)\n",
    "    x_train, x_valid = split_dataset(X, split_ratio)\n",
    "    \n",
    "    print(\"train images shape : \" + str(x_train.shape))\n",
    "    print(\"valid images shape : \" + str(x_valid.shape))\n",
    "\n",
    "    x_train = x_train.astype('float32')\n",
    "    x_valid = x_valid.astype('float32')\n",
    "    x_train = x_train / 255\n",
    "    x_valid = x_valid / 255\n",
    "\n",
    "    \n",
    "    inp = Input(shape=(None, None, 1))\n",
    "    model_edsr = edsr.edsr(x_in=inp, scale=2)\n",
    "    adam = Adam(lr=0.0001, beta_1=0.9, beta_2=0.999, epsilon=0.00000001, decay=0.0, amsgrad=False)\n",
    "    model_edsr.compile(optimizer=adam, loss='mse')\n",
    "    checkpointr = ModelCheckpoint(filepath='edsr.weights.arb.best.hdf5', save_best_only=True, verbose=1)\n",
    "    model_edsr.summary()\n",
    "\n",
    "    \n",
    "    inp = Input(shape=(None, None, 1))\n",
    "    model_comcnn = Model(inp, model_edsr(compact(inp)))\n",
    "    model_comcnn.layers[4].trainable = False\n",
    "    model_comcnn.compile(optimizer='adam', loss='mse')\n",
    "    checkpointc = ModelCheckpoint(filepath='comcnn.weights.arb.best.hdf5', save_best_only=True, verbose=1)\n",
    "    model_comcnn.summary()\n",
    "\n",
    "\n",
    "    \n",
    "    print(\"Entered into final training phase..\")\n",
    "    for i in range(iterations):\n",
    "        \n",
    "        print('Epoch : ' + str(i+1))\n",
    "        \n",
    "        upto_comcnn = Model(model_comcnn.input, model_comcnn.layers[3].output)\n",
    "        xm = upto_comcnn.predict(x_train)\n",
    "        xm_valid = upto_comcnn.predict(x_valid)\n",
    "        mpimg.imsave('final-phase/'+str(i)+'-xm.png', xm[0,:,:,0], cmap='gray')\n",
    "        \n",
    "        xm_compress = compressThis(xm, QF)\n",
    "        xm_valid_compress = compressThis(xm_valid, QF)\n",
    "        xm_compress = xm_compress.astype('float32')\n",
    "        xm_valid_compress = xm_valid_compress.astype('float32')\n",
    "        xm_compress = xm_compress / 255\n",
    "        xm_valid_compress = xm_valid_compress / 255\n",
    "        mpimg.imsave('final-phase/'+str(i)+'-xm_compress.png', xm_compress[0,:,:,0], cmap='gray')\n",
    "        \n",
    "        print('Training edsr...')\n",
    "        model_edsr.fit(x=xm_compress, y=x_train, validation_data=(xm_valid_compress, x_valid),epochs=num_of_epochs, shuffle=True, verbose=1, batch_size=8, callbacks=[checkpointr])\n",
    "        print('Training comcnn...')\n",
    "        model_comcnn.fit(x=x_train, y=x_train, validation_data=(x_valid, x_valid),epochs=num_of_epochs, shuffle=True, verbose=1, batch_size=8, callbacks=[checkpointc])\n",
    "        \n",
    "        sample_in = xm_compress[:1]\n",
    "        sample_op = model_edsr.predict(sample_in)\n",
    "        mpimg.imsave('edsr-check/'+str(i)+'-epoch-inp-epoch.png', sample_in[0,:,:,0], cmap='gray')\n",
    "        mpimg.imsave('edsr-check/'+str(i)+'-epoch-out-epoch.png', sample_op[0,:,:,0], cmap='gray')\n",
    "        \n",
    "        sample_in = x_train[:1]\n",
    "        sample_op = model_comcnn.predict(sample_in)\n",
    "        mpimg.imsave('comcnn-check/'+str(i)+'-epoch-inp-epoch.png', sample_in[0,:,:,0], cmap='gray')\n",
    "        mpimg.imsave('comcnn-check/'+str(i)+'-epoch-out-epoch.png', sample_op[0,:,:,0], cmap='gray')\n",
    "        \n",
    "        "
   ]
  },
  {
   "cell_type": "code",
   "execution_count": 7,
   "metadata": {
    "colab": {},
    "colab_type": "code",
    "id": "Ibm9hIeWvryM"
   },
   "outputs": [],
   "source": [
    "dset_location ='/home/titanxpascal/Documents/sem6proj/img-compression/Subset16k/Subset16k'\n",
    "images_count = 800\n",
    "split_ratio = 0.8\n",
    "QF = 10\n",
    "\n",
    "\n",
    "# ----- final training phase ----------\n",
    "iterations = 100\n",
    "num_of_epochs = 5\n",
    "\n",
    "lr_dim = 128\n",
    "hr_dim = 256\n"
   ]
  }
 ],
 "metadata": {
  "accelerator": "GPU",
  "colab": {
   "collapsed_sections": [],
   "name": "end_to_end_compression.ipynb",
   "provenance": [],
   "version": "0.3.2"
  },
  "kernelspec": {
   "display_name": "Python 3",
   "language": "python",
   "name": "python3"
  },
  "language_info": {
   "codemirror_mode": {
    "name": "ipython",
    "version": 3
   },
   "file_extension": ".py",
   "mimetype": "text/x-python",
   "name": "python",
   "nbconvert_exporter": "python",
   "pygments_lexer": "ipython3",
   "version": "3.6.5"
  },
  "varInspector": {
   "cols": {
    "lenName": 16,
    "lenType": 16,
    "lenVar": 40
   },
   "kernels_config": {
    "python": {
     "delete_cmd_postfix": "",
     "delete_cmd_prefix": "del ",
     "library": "var_list.py",
     "varRefreshCmd": "print(var_dic_list())"
    },
    "r": {
     "delete_cmd_postfix": ") ",
     "delete_cmd_prefix": "rm(",
     "library": "var_list.r",
     "varRefreshCmd": "cat(var_dic_list()) "
    }
   },
   "types_to_exclude": [
    "module",
    "function",
    "builtin_function_or_method",
    "instance",
    "_Feature"
   ],
   "window_display": false
  }
 },
 "nbformat": 4,
 "nbformat_minor": 1
}
