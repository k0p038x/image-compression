{
 "cells": [
  {
   "cell_type": "code",
   "execution_count": 96,
   "metadata": {},
   "outputs": [],
   "source": [
    "import numpy as np\n",
    "import cv2\n",
    "from keras.layers import Conv2D, Input\n",
    "from keras.models import Model"
   ]
  },
  {
   "cell_type": "code",
   "execution_count": 97,
   "metadata": {},
   "outputs": [],
   "source": [
    "class RecCNN:\n",
    "    \n",
    "    # fx, fy : scaling factors \n",
    "    def __init__(self, fx, fy):\n",
    "        self.fx = fx \n",
    "        self.fy = fy\n",
    "    \n",
    "    def interpolation(self, input_img): \n",
    "        output_img = input_img\n",
    "        output_img = cv2.resize(src = input_img, dst = output_img, dsize = (0,0), fx = self.fx, fy = self.fy, interpolation = cv2.INTER_CUBIC)\n",
    "        return output_img\n",
    "    \n",
    "    def sisr(self, first):\n",
    "        \n",
    "        # Layers\n",
    "        conv1 = Conv2D(filters=64, kernel_size=(5,5), activation='relu', padding='same')(first)\n",
    "        conv2 = Conv2D(filters=32, kernel_size=(3,3), activation='relu', padding='same')(conv1)\n",
    "        last = Conv2D(1, kernel_size=(3,3), activation='sigmoid', padding = 'same')(conv2)\n",
    "        return last\n",
    "    \n",
    "        "
   ]
  },
  {
   "cell_type": "code",
   "execution_count": 98,
   "metadata": {},
   "outputs": [
    {
     "name": "stdout",
     "output_type": "stream",
     "text": [
      "_________________________________________________________________\n",
      "Layer (type)                 Output Shape              Param #   \n",
      "=================================================================\n",
      "input_5 (InputLayer)         (None, 28, 28, 1)         0         \n",
      "_________________________________________________________________\n",
      "conv2d_16 (Conv2D)           (None, 28, 28, 64)        1664      \n",
      "_________________________________________________________________\n",
      "conv2d_17 (Conv2D)           (None, 28, 28, 32)        18464     \n",
      "_________________________________________________________________\n",
      "conv2d_18 (Conv2D)           (None, 28, 28, 1)         289       \n",
      "=================================================================\n",
      "Total params: 20,417\n",
      "Trainable params: 20,417\n",
      "Non-trainable params: 0\n",
      "_________________________________________________________________\n"
     ]
    }
   ],
   "source": [
    "# Testing RecCNN Model\n",
    "\n",
    "input_img = Input(shape=(28, 28, 1))\n",
    "rec_cnn = RecCNN(2,2)\n",
    "model = Model(input_img, rec_cnn.sisr(input_img))\n",
    "\n",
    "model.compile(optimizer='adam', loss='mean_squared_error')\n",
    "model.summary()"
   ]
  },
  {
   "cell_type": "code",
   "execution_count": 99,
   "metadata": {},
   "outputs": [
    {
     "name": "stdout",
     "output_type": "stream",
     "text": [
      "(10, 28, 28)\n",
      "(1, 28, 28)\n"
     ]
    }
   ],
   "source": [
    "from keras.datasets import mnist\n",
    "\n",
    "(x_train,_), (x_test,_) = mnist.load_data()\n",
    "x_train = x_train[:10,:,:]\n",
    "x_test = x_test[:1,:,:]\n",
    "print(x_train.shape)\n",
    "print(x_test.shape)"
   ]
  },
  {
   "cell_type": "code",
   "execution_count": 100,
   "metadata": {},
   "outputs": [
    {
     "name": "stdout",
     "output_type": "stream",
     "text": [
      "(10, 28, 28, 1)\n",
      "(1, 28, 28, 1)\n"
     ]
    }
   ],
   "source": [
    "x_train = x_train.astype('float32') / 255.\n",
    "x_test = x_test.astype('float32') / 255.\n",
    "x_train = x_train.reshape(x_train.shape[0], x_train.shape[1], x_train.shape[2], 1)\n",
    "x_test = x_test.reshape(x_test.shape[0], x_test.shape[1], x_test.shape[2], 1)\n",
    "print(x_train.shape)\n",
    "print(x_test.shape)"
   ]
  },
  {
   "cell_type": "code",
   "execution_count": 101,
   "metadata": {},
   "outputs": [
    {
     "name": "stdout",
     "output_type": "stream",
     "text": [
      "Train on 10 samples, validate on 1 samples\n",
      "Epoch 1/5\n",
      "10/10 [==============================] - 0s 28ms/step - loss: 0.2321 - val_loss: 0.2267\n",
      "Epoch 2/5\n",
      "10/10 [==============================] - 0s 7ms/step - loss: 0.2240 - val_loss: 0.2182\n",
      "Epoch 3/5\n",
      "10/10 [==============================] - 0s 8ms/step - loss: 0.2152 - val_loss: 0.2074\n",
      "Epoch 4/5\n",
      "10/10 [==============================] - 0s 7ms/step - loss: 0.2043 - val_loss: 0.1943\n",
      "Epoch 5/5\n",
      "10/10 [==============================] - 0s 7ms/step - loss: 0.1917 - val_loss: 0.1793\n"
     ]
    },
    {
     "data": {
      "text/plain": [
       "<keras.callbacks.History at 0x7fe028276390>"
      ]
     },
     "execution_count": 101,
     "metadata": {},
     "output_type": "execute_result"
    }
   ],
   "source": [
    "model.fit(x_train, x_train, epochs=5, batch_size=8, shuffle=True, validation_data=(x_test, x_test))"
   ]
  },
  {
   "cell_type": "code",
   "execution_count": 102,
   "metadata": {},
   "outputs": [],
   "source": [
    "op_img = model.predict(x_test)\n",
    "op_img = op_img * 255\n",
    "x_test = x_test * 255"
   ]
  }
 ],
 "metadata": {
  "kernelspec": {
   "display_name": "Python 3",
   "language": "python",
   "name": "python3"
  },
  "language_info": {
   "codemirror_mode": {
    "name": "ipython",
    "version": 3
   },
   "file_extension": ".py",
   "mimetype": "text/x-python",
   "name": "python",
   "nbconvert_exporter": "python",
   "pygments_lexer": "ipython3",
   "version": "3.6.5"
  },
  "varInspector": {
   "cols": {
    "lenName": 16,
    "lenType": 16,
    "lenVar": 40
   },
   "kernels_config": {
    "python": {
     "delete_cmd_postfix": "",
     "delete_cmd_prefix": "del ",
     "library": "var_list.py",
     "varRefreshCmd": "print(var_dic_list())"
    },
    "r": {
     "delete_cmd_postfix": ") ",
     "delete_cmd_prefix": "rm(",
     "library": "var_list.r",
     "varRefreshCmd": "cat(var_dic_list()) "
    }
   },
   "types_to_exclude": [
    "module",
    "function",
    "builtin_function_or_method",
    "instance",
    "_Feature"
   ],
   "window_display": false
  }
 },
 "nbformat": 4,
 "nbformat_minor": 2
}
