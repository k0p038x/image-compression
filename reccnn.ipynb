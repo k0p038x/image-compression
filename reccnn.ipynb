{
 "cells": [
  {
   "cell_type": "code",
   "execution_count": 1,
   "metadata": {},
   "outputs": [
    {
     "name": "stderr",
     "output_type": "stream",
     "text": [
      "/home/chandu/anaconda3/lib/python3.6/site-packages/h5py/__init__.py:36: FutureWarning: Conversion of the second argument of issubdtype from `float` to `np.floating` is deprecated. In future, it will be treated as `np.float64 == np.dtype(float).type`.\n",
      "  from ._conv import register_converters as _register_converters\n",
      "Using TensorFlow backend.\n"
     ]
    }
   ],
   "source": [
    "import numpy as np\n",
    "import cv2\n",
    "from keras.layers import Conv2D, Input, Layer\n",
    "import keras.layers\n",
    "from keras.models import Model\n",
    "import tensorflow as tf"
   ]
  },
  {
   "cell_type": "code",
   "execution_count": 2,
   "metadata": {},
   "outputs": [],
   "source": [
    "# Custom layer for bicubic interpolation \n",
    "\n",
    "class InterpolateTensor(Layer):\n",
    "    \n",
    "    # x, y : final size\n",
    "    # c : channels\n",
    "    def __init__(self, x, y, c, **kwargs):\n",
    "        self.x = x\n",
    "        self.y = y\n",
    "        self.channels = c\n",
    "        self.trainable = False\n",
    "        super(InterpolateTensor, self).__init__(**kwargs)\n",
    "    \n",
    "    def call(self, x):\n",
    "        return tf.image.resize_bicubic(x, (self.x, self.y))\n",
    "    \n",
    "    def compute_output_shape(self, input_shape):\n",
    "        return (input_shape[0], self.x, self.y, self.channels)\n",
    "    "
   ]
  },
  {
   "cell_type": "code",
   "execution_count": 3,
   "metadata": {},
   "outputs": [],
   "source": [
    "class RecCNN:\n",
    "    \n",
    "    def __init__(self, c):\n",
    "        self.channels = c\n",
    "        \n",
    "    def sisr(self, first):\n",
    "        \n",
    "        # similar to srcnn model \n",
    "        interp = InterpolateTensor(375, 500, 3)(first)\n",
    "        dup = interp\n",
    "        conv1 = Conv2D(filters=64, kernel_size=(5,5), activation='relu', padding='same')(interp)\n",
    "        conv2 = Conv2D(filters=32, kernel_size=(3,3), activation='relu', padding='same')(conv1)\n",
    "        res = Conv2D(self.channels, kernel_size=(3,3), activation='sigmoid', padding = 'same')(conv2)\n",
    "        last = keras.layers.add([dup, res])\n",
    "        \n",
    "        return last\n",
    "    \n",
    "        "
   ]
  },
  {
   "cell_type": "code",
   "execution_count": 4,
   "metadata": {},
   "outputs": [
    {
     "name": "stdout",
     "output_type": "stream",
     "text": [
      "__________________________________________________________________________________________________\n",
      "Layer (type)                    Output Shape         Param #     Connected to                     \n",
      "==================================================================================================\n",
      "input_1 (InputLayer)            (None, 25, 50, 3)    0                                            \n",
      "__________________________________________________________________________________________________\n",
      "interpolate_tensor_1 (Interpola (None, 375, 500, 3)  0           input_1[0][0]                    \n",
      "__________________________________________________________________________________________________\n",
      "conv2d_1 (Conv2D)               (None, 375, 500, 64) 4864        interpolate_tensor_1[0][0]       \n",
      "__________________________________________________________________________________________________\n",
      "conv2d_2 (Conv2D)               (None, 375, 500, 32) 18464       conv2d_1[0][0]                   \n",
      "__________________________________________________________________________________________________\n",
      "conv2d_3 (Conv2D)               (None, 375, 500, 3)  867         conv2d_2[0][0]                   \n",
      "__________________________________________________________________________________________________\n",
      "add_1 (Add)                     (None, 375, 500, 3)  0           interpolate_tensor_1[0][0]       \n",
      "                                                                 conv2d_3[0][0]                   \n",
      "==================================================================================================\n",
      "Total params: 24,195\n",
      "Trainable params: 24,195\n",
      "Non-trainable params: 0\n",
      "__________________________________________________________________________________________________\n"
     ]
    }
   ],
   "source": [
    "# inp2 = Input(shape=(25,50,3))\n",
    "# rec_cnn = RecCNN(3)\n",
    "# model_reccnn = Model(inp2, rec_cnn.sisr(inp2))\n",
    "# model_reccnn.compile(optimizer='adam', loss='mean_squared_error')\n",
    "# model_reccnn.summary()"
   ]
  }
 ],
 "metadata": {
  "kernelspec": {
   "display_name": "Python 3",
   "language": "python",
   "name": "python3"
  },
  "language_info": {
   "codemirror_mode": {
    "name": "ipython",
    "version": 3
   },
   "file_extension": ".py",
   "mimetype": "text/x-python",
   "name": "python",
   "nbconvert_exporter": "python",
   "pygments_lexer": "ipython3",
   "version": "3.6.5"
  },
  "varInspector": {
   "cols": {
    "lenName": 16,
    "lenType": 16,
    "lenVar": 40
   },
   "kernels_config": {
    "python": {
     "delete_cmd_postfix": "",
     "delete_cmd_prefix": "del ",
     "library": "var_list.py",
     "varRefreshCmd": "print(var_dic_list())"
    },
    "r": {
     "delete_cmd_postfix": ") ",
     "delete_cmd_prefix": "rm(",
     "library": "var_list.r",
     "varRefreshCmd": "cat(var_dic_list()) "
    }
   },
   "types_to_exclude": [
    "module",
    "function",
    "builtin_function_or_method",
    "instance",
    "_Feature"
   ],
   "window_display": false
  }
 },
 "nbformat": 4,
 "nbformat_minor": 2
}
